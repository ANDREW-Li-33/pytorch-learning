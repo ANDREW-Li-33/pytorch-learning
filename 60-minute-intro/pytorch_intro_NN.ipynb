{
  "nbformat": 4,
  "nbformat_minor": 0,
  "metadata": {
    "colab": {
      "provenance": []
    },
    "kernelspec": {
      "name": "python3",
      "display_name": "Python 3"
    },
    "language_info": {
      "name": "python"
    }
  },
  "cells": [
    {
      "cell_type": "markdown",
      "source": [
        "## Neural Networks\n",
        "<hr>\n",
        "In PyTorch, neural networks are constructed using the torch.nn package, which utilize PyTorch's built in automatic differentiation engine (pytorch's autograd)\n",
        "\n",
        "There are a a few basic steps in training a NN:\n",
        "\n",
        "1. Build a neural network with adjustable weights.\n",
        "\n",
        "<u>For each piece of data in your datasets</u>\n",
        "\n",
        "2. **Make a Prediction**: Pass the input through the network to get an output.\n",
        "\n",
        "3. **Measure Error**: Compare the output to the correct answer using a loss function. \\\\\n",
        "\n",
        "4. **Learn from Mistakes**: Compute how much each weight contributed to the error (this is the gradient). \\\\\n",
        "\n",
        "5. **Improve**: Adjust the weights by subtracting a small fraction of the gradient (this fraction is the learning rate).\n",
        "\n",
        "\n"
      ],
      "metadata": {
        "id": "6Ghh6dH4uMFr"
      }
    },
    {
      "cell_type": "code",
      "execution_count": 1,
      "metadata": {
        "colab": {
          "base_uri": "https://localhost:8080/"
        },
        "id": "qWVO8bgIuA4M",
        "outputId": "d3adbb42-8986-432a-fc0e-90646acd7fce"
      },
      "outputs": [
        {
          "output_type": "stream",
          "name": "stdout",
          "text": [
            "Net(\n",
            "  (conv1): Conv2d(1, 6, kernel_size=(5, 5), stride=(1, 1))\n",
            "  (conv2): Conv2d(6, 16, kernel_size=(5, 5), stride=(1, 1))\n",
            "  (fc1): Linear(in_features=400, out_features=120, bias=True)\n",
            "  (fc2): Linear(in_features=120, out_features=84, bias=True)\n",
            "  (fc3): Linear(in_features=84, out_features=10, bias=True)\n",
            ")\n"
          ]
        }
      ],
      "source": [
        "import torch\n",
        "import torch.nn as nn\n",
        "import torch.nn.functional as F\n",
        "\n",
        "class Net(nn.Module):\n",
        "\n",
        "  def __init__(self):\n",
        "    super(Net, self).__init__()\n",
        "\n",
        "    # kernel (a small matrix that slides over each pixel of the image. this allows it to look at  a small region around a given pixel to extract more information)\n",
        "    # not just limited to images, we can slide kernels over audios and videos\n",
        "    self.conv1 = nn.Conv2d(1, 6, 5)\n",
        "    self.conv2 = nn.Conv2d(6, 16, 5)\n",
        "\n",
        "    self.fc1 = nn.Linear(16 * 5 * 5, 120)\n",
        "    self.fc2 = nn.Linear(120, 84)\n",
        "    self.fc3 = nn.Linear(84, 10)\n",
        "\n",
        "  def forward(self, input):\n",
        "    c1 = F.relu(self.conv1(input))\n",
        "    s2 = F.max_pool2d(c1, (2, 2))\n",
        "    c3 = F.relu(self.conv2(s2))\n",
        "    s4 = F.max_pool2d(c3, 2)\n",
        "    s4 = torch.flatten(s4, 1)\n",
        "    f5 = F.relu(self.fc1(s4))\n",
        "    f6 = F.relu(self.fc2(f5))\n",
        "\n",
        "    output = self.fc3(f6)\n",
        "    return output\n",
        "\n",
        "net = Net()\n",
        "print(net)"
      ]
    },
    {
      "cell_type": "markdown",
      "source": [
        "params[0] is the list of weights"
      ],
      "metadata": {
        "id": "6PC4KlSu5BzF"
      }
    },
    {
      "cell_type": "code",
      "source": [
        "params = list(net.parameters())\n",
        "print(len(params))\n",
        "print(params[0].size())"
      ],
      "metadata": {
        "colab": {
          "base_uri": "https://localhost:8080/"
        },
        "id": "9L0EmHZt31vS",
        "outputId": "8f7b972c-e793-421d-c6a8-72fc5b4a99ac"
      },
      "execution_count": 2,
      "outputs": [
        {
          "output_type": "stream",
          "name": "stdout",
          "text": [
            "10\n",
            "torch.Size([6, 1, 5, 5])\n"
          ]
        }
      ]
    },
    {
      "cell_type": "markdown",
      "source": [
        "testing a random input"
      ],
      "metadata": {
        "id": "rs04vywK5Ht9"
      }
    },
    {
      "cell_type": "code",
      "source": [
        "input = torch.randn(1, 1, 32, 32)\n",
        "out = net(input)\n",
        "print(out)"
      ],
      "metadata": {
        "colab": {
          "base_uri": "https://localhost:8080/"
        },
        "id": "LwvB0mH_5Di1",
        "outputId": "6dec830f-4fa0-4737-8f90-76c7aed2d343"
      },
      "execution_count": 9,
      "outputs": [
        {
          "output_type": "stream",
          "name": "stdout",
          "text": [
            "tensor([[-0.0269, -0.0766,  0.0478, -0.0963, -0.0346, -0.0355, -0.0733, -0.0697,\n",
            "         -0.2306,  0.1410]], grad_fn=<AddmmBackward0>)\n"
          ]
        }
      ]
    },
    {
      "cell_type": "markdown",
      "source": [
        "In training, you repeatedly perform a forward pass followed by a backward pass for every mini-batch of data. You do this across multiple epochs until the network learns and converges"
      ],
      "metadata": {
        "id": "z2em161B6D0E"
      }
    },
    {
      "cell_type": "code",
      "source": [
        "net.zero_grad()\n",
        "out.backward(torch.randn(1, 10))"
      ],
      "metadata": {
        "id": "WugfB_Gi5x73"
      },
      "execution_count": 10,
      "outputs": []
    },
    {
      "cell_type": "markdown",
      "source": [
        "**recap so far:** \\\\\n",
        "torch.Tensor - A multi-dimensional array with support for autograd operations like backward(). Also holds the gradient with respect to the tensor. \\\\\n",
        "\n",
        "nn.Module - Neural network module. Convenient way of encapsulating parameters, with helpers for moving them to GPU, exporting, loading, etc. \\\\\n",
        "\n",
        "nn.Parameter - A kind of Tensor, that is automatically registered as a parameter when assigned as an attribute to a Module. \\\\\n",
        "\n",
        "autograd.Function - Implements forward and backward definitions of an autograd operation. Every Tensor operation creates at least a single Function node that connects to functions that created a Tensor and encodes its history. \\\\"
      ],
      "metadata": {
        "id": "hkfQNxsG7eCQ"
      }
    },
    {
      "cell_type": "markdown",
      "source": [
        "## Computing the loss\n",
        "\n",
        "A loss function takes the (output, target) pair of inputs, and computes a value that estimates how far away the output is from the target"
      ],
      "metadata": {
        "id": "nvonUCjc777K"
      }
    },
    {
      "cell_type": "code",
      "source": [
        "output = net(input)\n",
        "target = torch.randn(10)\n",
        "target = target.view(1, -1)\n",
        "criterion = nn.MSELoss() # Mean-squared error between the output and the target\n",
        "\n",
        "loss = criterion(output, target)\n",
        "print(loss)"
      ],
      "metadata": {
        "colab": {
          "base_uri": "https://localhost:8080/"
        },
        "id": "iT3smuU37d2h",
        "outputId": "fe9a7f6d-cd8a-4c77-b25e-40b8f042a308"
      },
      "execution_count": 14,
      "outputs": [
        {
          "output_type": "stream",
          "name": "stdout",
          "text": [
            "tensor(1.4355, grad_fn=<MseLossBackward0>)\n"
          ]
        }
      ]
    },
    {
      "cell_type": "code",
      "source": [
        "print(loss.grad_fn)  # MSELoss\n",
        "print(loss.grad_fn.next_functions[0][0])  # Linear\n",
        "print(loss.grad_fn.next_functions[0][0].next_functions[0][0])  # ReLU"
      ],
      "metadata": {
        "colab": {
          "base_uri": "https://localhost:8080/"
        },
        "id": "W5ZJdFGY9B62",
        "outputId": "22b51309-ffd3-4fe9-cdc8-12baaf38fe53"
      },
      "execution_count": 15,
      "outputs": [
        {
          "output_type": "stream",
          "name": "stdout",
          "text": [
            "<MseLossBackward0 object at 0x7da7aeeba4d0>\n",
            "<AddmmBackward0 object at 0x7da7aeebace0>\n",
            "<AccumulateGrad object at 0x7da7aeeba4d0>\n"
          ]
        }
      ]
    },
    {
      "cell_type": "markdown",
      "source": [
        "## Backprop\n",
        "\n",
        "before backpropagating the error, we have to clear existing gradients by calling net.zero_grad(), otherwise gradients will be accumuluated to existing gradients"
      ],
      "metadata": {
        "id": "khSdXKJ79Bt3"
      }
    },
    {
      "cell_type": "code",
      "source": [
        "net.zero_grad()\n",
        "\n",
        "print(net.conv1.bias.grad)\n",
        "\n",
        "loss.backward()\n",
        "\n",
        "print(net.conv1.bias.grad)"
      ],
      "metadata": {
        "colab": {
          "base_uri": "https://localhost:8080/"
        },
        "id": "sLbRH45F9SZL",
        "outputId": "6e4faa0d-8a99-4e72-a299-7baa85a678bf"
      },
      "execution_count": 16,
      "outputs": [
        {
          "output_type": "stream",
          "name": "stdout",
          "text": [
            "None\n",
            "tensor([ 0.0288, -0.0039,  0.0201,  0.0103,  0.0049,  0.0260])\n"
          ]
        }
      ]
    },
    {
      "cell_type": "markdown",
      "source": [
        "## update weights\n",
        "\n",
        "we'll use SGD, the simplest update rule used in practice\n",
        "\n",
        "weight = weight - learning_rate * gradient"
      ],
      "metadata": {
        "id": "0cmwgXzA9kLT"
      }
    },
    {
      "cell_type": "code",
      "source": [
        "learning_rate = 0.01\n",
        "for f in net.parameters():\n",
        "  f.data.sub_(f.grad.data * learning_rate)"
      ],
      "metadata": {
        "id": "d-evrVEv-Zij"
      },
      "execution_count": 17,
      "outputs": []
    },
    {
      "cell_type": "markdown",
      "source": [
        "using PyTorch's built in update rules packages"
      ],
      "metadata": {
        "id": "sZ2Nja3kAXYp"
      }
    },
    {
      "cell_type": "code",
      "source": [
        "import torch.optim as optim\n",
        "\n",
        "# create your optimizer\n",
        "optimizer = optim.SGD(net.parameters(), lr=0.01)\n",
        "\n",
        "# in your training loop:\n",
        "optimizer.zero_grad()   # zero the gradient buffers\n",
        "output = net(input)\n",
        "loss = criterion(output, target)\n",
        "loss.backward()\n",
        "optimizer.step()    # Does the update"
      ],
      "metadata": {
        "id": "feEiKp1lAVD9"
      },
      "execution_count": 18,
      "outputs": []
    }
  ]
}