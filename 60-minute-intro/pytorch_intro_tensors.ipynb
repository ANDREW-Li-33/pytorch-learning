{
  "nbformat": 4,
  "nbformat_minor": 0,
  "metadata": {
    "colab": {
      "provenance": []
    },
    "kernelspec": {
      "name": "python3",
      "display_name": "Python 3"
    },
    "language_info": {
      "name": "python"
    }
  },
  "cells": [
    {
      "cell_type": "code",
      "execution_count": 1,
      "metadata": {
        "id": "g9TuNepKUnmH"
      },
      "outputs": [],
      "source": [
        "import torch\n",
        "import numpy as np"
      ]
    },
    {
      "cell_type": "markdown",
      "source": [
        "pytorch tensors can be created from regular Python lists"
      ],
      "metadata": {
        "id": "MY_Syi_LSTW3"
      }
    },
    {
      "cell_type": "code",
      "source": [
        "data = [[1, 2], [3, 4], [5, 6]]\n",
        "x_data = torch.tensor(data)"
      ],
      "metadata": {
        "id": "M4zXq6RTUwcm"
      },
      "execution_count": 7,
      "outputs": []
    },
    {
      "cell_type": "code",
      "source": [
        "print(x_data)"
      ],
      "metadata": {
        "id": "lqqWJi10U4Oz"
      },
      "execution_count": null,
      "outputs": []
    },
    {
      "cell_type": "markdown",
      "source": [
        "pytorch tensors can also be created from numpy arrays"
      ],
      "metadata": {
        "id": "XNhMvrkKSfvz"
      }
    },
    {
      "cell_type": "code",
      "source": [
        "np_array = np.array(data)\n",
        "print(np_array)\n",
        "x_np = torch.from_numpy(np_array)\n",
        "print(x_np)"
      ],
      "metadata": {
        "colab": {
          "base_uri": "https://localhost:8080/"
        },
        "id": "KD5NGTQ4VCfQ",
        "outputId": "e173c74c-9b91-4650-e75b-95eae28d3d77"
      },
      "execution_count": 11,
      "outputs": [
        {
          "output_type": "stream",
          "name": "stdout",
          "text": [
            "[[1 2]\n",
            " [3 4]\n",
            " [5 6]]\n",
            "tensor([[1, 2],\n",
            "        [3, 4],\n",
            "        [5, 6]])\n"
          ]
        }
      ]
    },
    {
      "cell_type": "markdown",
      "source": [
        "takes a matrix with the shape of x_data and fills it with 1s"
      ],
      "metadata": {
        "id": "uvxexpweSn31"
      }
    },
    {
      "cell_type": "code",
      "source": [
        "x_ones = torch.ones_like(x_data)\n",
        "print(x_ones)"
      ],
      "metadata": {
        "colab": {
          "base_uri": "https://localhost:8080/"
        },
        "id": "OKe1EI41VbRH",
        "outputId": "8694f96a-6fad-4904-e5c1-261f7491c90e"
      },
      "execution_count": 12,
      "outputs": [
        {
          "output_type": "stream",
          "name": "stdout",
          "text": [
            "tensor([[1, 1],\n",
            "        [1, 1],\n",
            "        [1, 1]])\n"
          ]
        }
      ]
    },
    {
      "cell_type": "markdown",
      "source": [
        "same concept: takes a matrix with the shape of x_data and fills it with random values"
      ],
      "metadata": {
        "id": "1PKkUqhaTB31"
      }
    },
    {
      "cell_type": "code",
      "source": [
        "x_random = torch.rand_like(x_data, dtype=torch.float)\n",
        "print(x_random)"
      ],
      "metadata": {
        "colab": {
          "base_uri": "https://localhost:8080/"
        },
        "id": "_H823AYJWBNg",
        "outputId": "2ef594ed-683f-4b7a-cc07-9aaa0d13bf05"
      },
      "execution_count": 18,
      "outputs": [
        {
          "output_type": "stream",
          "name": "stdout",
          "text": [
            "tensor([[0.7861, 0.5674],\n",
            "        [0.4260, 0.2070],\n",
            "        [0.8998, 0.1916]])\n"
          ]
        }
      ]
    },
    {
      "cell_type": "markdown",
      "source": [
        "can also pass in shape to create a random matrix"
      ],
      "metadata": {
        "id": "np59DJOLTJhp"
      }
    },
    {
      "cell_type": "code",
      "source": [
        "shape = (5, 5)\n",
        "x_random = torch.rand(shape)\n",
        "print(x_random)\n",
        "x_random = torch.rand((4,4))\n",
        "print(x_random)"
      ],
      "metadata": {
        "colab": {
          "base_uri": "https://localhost:8080/"
        },
        "id": "_XuKBoXLWv7D",
        "outputId": "3d23d3b4-7660-4c42-f250-3593217138d8"
      },
      "execution_count": 78,
      "outputs": [
        {
          "output_type": "stream",
          "name": "stdout",
          "text": [
            "tensor([[0.2077, 0.5451, 0.5921, 0.5688, 0.8015],\n",
            "        [0.6561, 0.0421, 0.9773, 0.3372, 0.4976],\n",
            "        [0.1965, 0.2252, 0.9954, 0.8470, 0.6156],\n",
            "        [0.3695, 0.6164, 0.7092, 0.7987, 0.9736],\n",
            "        [0.4124, 0.9164, 0.1779, 0.5271, 0.5687]])\n",
            "tensor([[0.1389, 0.1310, 0.6285, 0.5153],\n",
            "        [0.7197, 0.7796, 0.4375, 0.7488],\n",
            "        [0.1992, 0.3602, 0.0545, 0.2700],\n",
            "        [0.1405, 0.6447, 0.4186, 0.5595]])\n"
          ]
        }
      ]
    },
    {
      "cell_type": "markdown",
      "source": [
        "passing in shape to ones() to create a matrix full of 1s, the matrix matches the dimension shape"
      ],
      "metadata": {
        "id": "ReR5i58GTzp9"
      }
    },
    {
      "cell_type": "code",
      "source": [
        "shape_ones = torch.ones(shape)\n",
        "print(shape_ones)"
      ],
      "metadata": {
        "colab": {
          "base_uri": "https://localhost:8080/"
        },
        "id": "fdMAbMt9W9DN",
        "outputId": "ec131dd3-c0b8-457a-a853-83341d07a62f"
      },
      "execution_count": 22,
      "outputs": [
        {
          "output_type": "stream",
          "name": "stdout",
          "text": [
            "tensor([[1., 1., 1., 1., 1.],\n",
            "        [1., 1., 1., 1., 1.],\n",
            "        [1., 1., 1., 1., 1.],\n",
            "        [1., 1., 1., 1., 1.],\n",
            "        [1., 1., 1., 1., 1.]])\n"
          ]
        }
      ]
    },
    {
      "cell_type": "markdown",
      "source": [
        "passing in shape to zeros to create a matrix of 0s, the matrix matches the dimension shape"
      ],
      "metadata": {
        "id": "hSDsv0bhT6YA"
      }
    },
    {
      "cell_type": "code",
      "source": [
        "shape_zeros = torch.zeros(shape)\n",
        "print(shape_zeros)"
      ],
      "metadata": {
        "colab": {
          "base_uri": "https://localhost:8080/"
        },
        "id": "NFIUIEdrW_xB",
        "outputId": "464a2736-df96-4d22-e3d4-21422507bf1b"
      },
      "execution_count": 24,
      "outputs": [
        {
          "output_type": "stream",
          "name": "stdout",
          "text": [
            "tensor([[0., 0., 0., 0., 0.],\n",
            "        [0., 0., 0., 0., 0.],\n",
            "        [0., 0., 0., 0., 0.],\n",
            "        [0., 0., 0., 0., 0.],\n",
            "        [0., 0., 0., 0., 0.]])\n"
          ]
        }
      ]
    },
    {
      "cell_type": "markdown",
      "source": [
        "attributes of a tensor"
      ],
      "metadata": {
        "id": "5Ggy4m0UUN4U"
      }
    },
    {
      "cell_type": "code",
      "source": [
        "tensor = torch.rand(3, 4)\n",
        "print(tensor.shape)\n",
        "print(tensor.dtype)\n",
        "print(tensor.device)"
      ],
      "metadata": {
        "colab": {
          "base_uri": "https://localhost:8080/"
        },
        "id": "3hXfr898JwDx",
        "outputId": "a06ae5e7-4436-4b83-dac6-6f735e0efa76"
      },
      "execution_count": 32,
      "outputs": [
        {
          "output_type": "stream",
          "name": "stdout",
          "text": [
            "torch.Size([3, 4])\n",
            "torch.float32\n",
            "cpu\n"
          ]
        }
      ]
    },
    {
      "cell_type": "markdown",
      "source": [
        "check if we're able to use the gpu"
      ],
      "metadata": {
        "id": "mnW__cF_TwbO"
      }
    },
    {
      "cell_type": "code",
      "source": [
        "if torch.cuda.is_available():\n",
        "  tensor = tensor.to('cuda')\n",
        "  print(tensor.device)\n",
        "else :\n",
        "  print('cuda is not available')"
      ],
      "metadata": {
        "colab": {
          "base_uri": "https://localhost:8080/"
        },
        "id": "a8kgQZ12KO2d",
        "outputId": "9ea1cbfe-c91d-47fb-c732-2ccd80def80e"
      },
      "execution_count": 37,
      "outputs": [
        {
          "output_type": "stream",
          "name": "stdout",
          "text": [
            "cuda is not available\n"
          ]
        }
      ]
    },
    {
      "cell_type": "markdown",
      "source": [
        "using numpy array slicing syntax x: means go from row or column x all the way to the end row / column"
      ],
      "metadata": {
        "id": "1ro5LCSlTlxk"
      }
    },
    {
      "cell_type": "code",
      "source": [
        "tensor = torch.ones(5, 5)\n",
        "tensor[0:,2:] = 0\n",
        "print(tensor)\n",
        "print(tensor.size())"
      ],
      "metadata": {
        "colab": {
          "base_uri": "https://localhost:8080/"
        },
        "id": "hfIIYOTIKgCx",
        "outputId": "f7119e66-2d65-40d4-d12d-3ff50763f47b"
      },
      "execution_count": 58,
      "outputs": [
        {
          "output_type": "stream",
          "name": "stdout",
          "text": [
            "tensor([[1., 1., 0., 0., 0.],\n",
            "        [1., 1., 0., 0., 0.],\n",
            "        [1., 1., 0., 0., 0.],\n",
            "        [1., 1., 0., 0., 0.],\n",
            "        [1., 1., 0., 0., 0.]])\n",
            "torch.Size([5, 5])\n"
          ]
        }
      ]
    },
    {
      "cell_type": "markdown",
      "source": [
        "concatenating two tensors"
      ],
      "metadata": {
        "id": "5kolqMI5TjlN"
      }
    },
    {
      "cell_type": "code",
      "source": [
        "combined_tensor = torch.cat([tensor, tensor], dim = 1)\n",
        "print(combined_tensor)"
      ],
      "metadata": {
        "colab": {
          "base_uri": "https://localhost:8080/"
        },
        "id": "1ICiXZMONlv3",
        "outputId": "07e87953-7222-472b-91a1-509e64e57db9"
      },
      "execution_count": 65,
      "outputs": [
        {
          "output_type": "stream",
          "name": "stdout",
          "text": [
            "tensor([[1., 1., 0., 0., 0., 1., 1., 0., 0., 0.],\n",
            "        [1., 1., 0., 0., 0., 1., 1., 0., 0., 0.],\n",
            "        [1., 1., 0., 0., 0., 1., 1., 0., 0., 0.],\n",
            "        [1., 1., 0., 0., 0., 1., 1., 0., 0., 0.],\n",
            "        [1., 1., 0., 0., 0., 1., 1., 0., 0., 0.]])\n"
          ]
        }
      ]
    },
    {
      "cell_type": "markdown",
      "source": [
        "matrix multiplication"
      ],
      "metadata": {
        "id": "MA-JqftMTgH4"
      }
    },
    {
      "cell_type": "code",
      "source": [
        "print(tensor * tensor)\n",
        "print(tensor.mul(tensor))"
      ],
      "metadata": {
        "colab": {
          "base_uri": "https://localhost:8080/"
        },
        "id": "MfM3VDOAOD_F",
        "outputId": "028f6ace-8d02-4638-804e-8a3c64de9b4c"
      },
      "execution_count": 67,
      "outputs": [
        {
          "output_type": "stream",
          "name": "stdout",
          "text": [
            "tensor([[1., 1., 0., 0., 0.],\n",
            "        [1., 1., 0., 0., 0.],\n",
            "        [1., 1., 0., 0., 0.],\n",
            "        [1., 1., 0., 0., 0.],\n",
            "        [1., 1., 0., 0., 0.]])\n",
            "tensor([[1., 1., 0., 0., 0.],\n",
            "        [1., 1., 0., 0., 0.],\n",
            "        [1., 1., 0., 0., 0.],\n",
            "        [1., 1., 0., 0., 0.],\n",
            "        [1., 1., 0., 0., 0.]])\n"
          ]
        }
      ]
    },
    {
      "cell_type": "markdown",
      "source": [
        ".T performs a transpose, for 2D matrices .T has no parameters because you simply swap the rows and columns"
      ],
      "metadata": {
        "id": "WItH0TYmTZkx"
      }
    },
    {
      "cell_type": "code",
      "source": [
        "print(tensor, \"\\n\")\n",
        "print(tensor.T, \"\\n\")\n",
        "tensor = tensor * tensor.T\n",
        "print(tensor)"
      ],
      "metadata": {
        "colab": {
          "base_uri": "https://localhost:8080/"
        },
        "id": "8UJiSJE1PFBX",
        "outputId": "4da8a259-6574-4dac-85f3-0e7fbcaded1d"
      },
      "execution_count": 74,
      "outputs": [
        {
          "output_type": "stream",
          "name": "stdout",
          "text": [
            "tensor([[1., 1., 0., 0., 0.],\n",
            "        [1., 1., 0., 0., 0.],\n",
            "        [0., 0., 0., 0., 0.],\n",
            "        [0., 0., 0., 0., 0.],\n",
            "        [0., 0., 0., 0., 0.]]) \n",
            " hello\n",
            "tensor([[1., 1., 0., 0., 0.],\n",
            "        [1., 1., 0., 0., 0.],\n",
            "        [0., 0., 0., 0., 0.],\n",
            "        [0., 0., 0., 0., 0.],\n",
            "        [0., 0., 0., 0., 0.]]) \n",
            "\n",
            "tensor([[1., 1., 0., 0., 0.],\n",
            "        [1., 1., 0., 0., 0.],\n",
            "        [0., 0., 0., 0., 0.],\n",
            "        [0., 0., 0., 0., 0.],\n",
            "        [0., 0., 0., 0., 0.]])\n"
          ]
        }
      ]
    },
    {
      "cell_type": "markdown",
      "source": [
        "in place operations, signified by the use of an underscore at the end of the function"
      ],
      "metadata": {
        "id": "cqmJg8wFQHti"
      }
    },
    {
      "cell_type": "code",
      "source": [
        "print(tensor, \"\\n\")\n",
        "print(tensor.add_(5), \"\\n\")\n",
        "print(tensor.sub_(3), \"\\n\")"
      ],
      "metadata": {
        "colab": {
          "base_uri": "https://localhost:8080/"
        },
        "id": "zPKGjYWlPaew",
        "outputId": "1763ad03-2f75-4c57-823a-939cf0ec0f1e"
      },
      "execution_count": 76,
      "outputs": [
        {
          "output_type": "stream",
          "name": "stdout",
          "text": [
            "tensor([[6., 6., 5., 5., 5.],\n",
            "        [6., 6., 5., 5., 5.],\n",
            "        [5., 5., 5., 5., 5.],\n",
            "        [5., 5., 5., 5., 5.],\n",
            "        [5., 5., 5., 5., 5.]]) \n",
            "\n",
            "tensor([[11., 11., 10., 10., 10.],\n",
            "        [11., 11., 10., 10., 10.],\n",
            "        [10., 10., 10., 10., 10.],\n",
            "        [10., 10., 10., 10., 10.],\n",
            "        [10., 10., 10., 10., 10.]]) \n",
            "\n",
            "tensor([[8., 8., 7., 7., 7.],\n",
            "        [8., 8., 7., 7., 7.],\n",
            "        [7., 7., 7., 7., 7.],\n",
            "        [7., 7., 7., 7., 7.],\n",
            "        [7., 7., 7., 7., 7.]]) \n",
            "\n"
          ]
        }
      ]
    }
  ]
}