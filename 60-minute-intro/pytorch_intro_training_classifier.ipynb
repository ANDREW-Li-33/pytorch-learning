{
  "nbformat": 4,
  "nbformat_minor": 0,
  "metadata": {
    "colab": {
      "provenance": []
    },
    "kernelspec": {
      "name": "python3",
      "display_name": "Python 3"
    },
    "language_info": {
      "name": "python"
    }
  },
  "cells": [
    {
      "cell_type": "markdown",
      "source": [
        "for vision problems, PyTorch provides torchvision, which allows you to avoid writing boilerplate code\n",
        "\n",
        "the tutorial will use the CIFAR-10 image dataset"
      ],
      "metadata": {
        "id": "XbQdLnZKG5I2"
      }
    },
    {
      "cell_type": "markdown",
      "source": [
        "In order to train an image classifier, we\n",
        "1. Download the CIFAR10 images and adjust them (normalize) so they're easier for the network to work with\n",
        "2. Create a convolutional neural network that can learn to classify images.\n",
        "3. Choose a way to measure how well the network's predictions match the true labels (defining a loss function)\n",
        "4. Use the training images to teach the network, updating its weights based on the loss (traning the network on training data)\n",
        "5. Check how well the network performs on a separate set of images it hasn't seen before (testing the network on test data)\n",
        "\n",
        "\n",
        "\n"
      ],
      "metadata": {
        "id": "NI5XWI3AHPbh"
      }
    },
    {
      "cell_type": "code",
      "execution_count": 1,
      "metadata": {
        "id": "vnqdlBk8GxWQ"
      },
      "outputs": [],
      "source": [
        "import torch\n",
        "import torchvision\n",
        "import torchvision.transforms as transforms"
      ]
    },
    {
      "cell_type": "code",
      "source": [
        "transform = transforms.Compose(\n",
        "    [transforms.ToTensor(),\n",
        "     transforms.Normalize((0.5, 0.5, 0.5), (0.5, 0.5, 0.5))])\n",
        "\n",
        "batch_size = 4\n",
        "\n",
        "# passing in the transform we created in the first line into the dataset\n",
        "# notice how we set enable the train parameter\n",
        "trainset = torchvision.datasets.CIFAR10(root='./data', train=True,\n",
        "                                        download=True, transform=transform)\n",
        "trainloader = torch.utils.data.DataLoader(trainset, batch_size=batch_size,\n",
        "                                          shuffle=True, num_workers=2)\n",
        "\n",
        "testset = torchvision.datasets.CIFAR10(root='./data', train=False,\n",
        "                                       download=True, transform=transform)\n",
        "testloader = torch.utils.data.DataLoader(testset, batch_size=batch_size,\n",
        "                                         shuffle=False, num_workers=2)\n",
        "\n",
        "classes = ('plane', 'car', 'bird', 'cat',\n",
        "           'deer', 'dog', 'frog', 'horse', 'ship', 'truck')"
      ],
      "metadata": {
        "colab": {
          "base_uri": "https://localhost:8080/"
        },
        "id": "ObEj0eKnHsb8",
        "outputId": "5ecc68d7-3b33-4961-c209-4a3ff2ee5507"
      },
      "execution_count": 2,
      "outputs": [
        {
          "output_type": "stream",
          "name": "stdout",
          "text": [
            "Downloading https://www.cs.toronto.edu/~kriz/cifar-10-python.tar.gz to ./data/cifar-10-python.tar.gz\n"
          ]
        },
        {
          "output_type": "stream",
          "name": "stderr",
          "text": [
            "100%|██████████| 170M/170M [00:02<00:00, 61.5MB/s]\n"
          ]
        },
        {
          "output_type": "stream",
          "name": "stdout",
          "text": [
            "Extracting ./data/cifar-10-python.tar.gz to ./data\n",
            "Files already downloaded and verified\n"
          ]
        }
      ]
    },
    {
      "cell_type": "code",
      "source": [
        "import matplotlib.pyplot as plt\n",
        "import numpy as np\n",
        "\n",
        "def show_img(img):\n",
        "  img = img / 2 + 0.5 # unnormalizing the image\n",
        "  npimg = img.numpy()\n",
        "  plt.imshow(np.transpose(npimg, (1, 2, 0)))\n",
        "  plt.show()\n",
        "\n",
        "# load random training images\n",
        "dataiter = iter(trainloader)\n",
        "images, labels = next(dataiter)\n",
        "\n",
        "# show images\n",
        "show_img(torchvision.utils.make_grid(images))\n",
        "print(' '.join(f'{classes[labels[j]]:5s}' for j in range(batch_size)))"
      ],
      "metadata": {
        "colab": {
          "base_uri": "https://localhost:8080/",
          "height": 211
        },
        "id": "v0aoquLWILuH",
        "outputId": "68bd32d5-8104-409c-8fb3-5c2c7a8716a8"
      },
      "execution_count": 17,
      "outputs": [
        {
          "output_type": "display_data",
          "data": {
            "text/plain": [
              "<Figure size 640x480 with 1 Axes>"
            ],
            "image/png": "[encoded data removed]"
          },
          "metadata": {}
        },
        {
          "output_type": "stream",
          "name": "stdout",
          "text": [
            "ship  plane cat   ship \n"
          ]
        }
      ]
    },
    {
      "cell_type": "markdown",
      "source": [
        "Defining a Convolutional Neural that takes 3-channel (3 channels for r, g, and b) images"
      ],
      "metadata": {
        "id": "OWtfr0UtJICy"
      }
    },
    {
      "cell_type": "code",
      "source": [
        "import torch.nn as nn\n",
        "import torch.nn.functional as F\n",
        "\n",
        "\n",
        "class Net(nn.Module):\n",
        "    def __init__(self):\n",
        "        super().__init__()\n",
        "        self.conv1 = nn.Conv2d(3, 6, 5) # notice the 1st parameter (number of channels) has been changed to 3 rather than 1\n",
        "        self.pool = nn.MaxPool2d(2, 2)\n",
        "        self.conv2 = nn.Conv2d(6, 16, 5)\n",
        "        self.fc1 = nn.Linear(16 * 5 * 5, 120)\n",
        "        self.fc2 = nn.Linear(120, 84)\n",
        "        self.fc3 = nn.Linear(84, 10)\n",
        "\n",
        "    def forward(self, x):\n",
        "        x = self.pool(F.relu(self.conv1(x)))\n",
        "        x = self.pool(F.relu(self.conv2(x)))\n",
        "        x = torch.flatten(x, 1) # flatten all dimensions except batch\n",
        "        x = F.relu(self.fc1(x))\n",
        "        x = F.relu(self.fc2(x))\n",
        "        x = self.fc3(x)\n",
        "        return x\n",
        "\n",
        "\n",
        "net = Net()"
      ],
      "metadata": {
        "id": "eLr36DCRJHei"
      },
      "execution_count": 23,
      "outputs": []
    },
    {
      "cell_type": "markdown",
      "source": [
        "defining a loss function \\\\\n",
        "with Classification Cross-Entropy loss and SGD with momentum"
      ],
      "metadata": {
        "id": "Os-INYuqJ1kO"
      }
    },
    {
      "cell_type": "code",
      "source": [
        "import torch.optim as optim\n",
        "import torch.nn\n",
        "\n",
        "criterion = torch.nn.CrossEntropyLoss()\n",
        "optimizer = optim.SGD(net.parameters(), lr = 0.001, momentum = 0.9)"
      ],
      "metadata": {
        "id": "k2kywpHzJxH2"
      },
      "execution_count": 24,
      "outputs": []
    },
    {
      "cell_type": "markdown",
      "source": [
        "training the network\n"
      ],
      "metadata": {
        "id": "Gocq8TaPKAHm"
      }
    },
    {
      "cell_type": "code",
      "source": [
        "for epoch in range(2):  # Repeat the whole training process for 2 epochs (complete passes through the dataset)\n",
        "\n",
        "    running_loss = 0.0  # keeps track of the loss over a set of mini-batches\n",
        "\n",
        "    # Loop over the training data in mini-batches\n",
        "    for i, data in enumerate(trainloader, 0):\n",
        "        # Each 'data' is a mini-batch containing:\n",
        "        #   inputs: a batch of images\n",
        "        #   labels: the correct class labels for these images\n",
        "        inputs, labels = data\n",
        "\n",
        "        # Reset the gradients for all parameters before processing the current mini-batch\n",
        "        optimizer.zero_grad()\n",
        "\n",
        "        # MAKE A PREDICTION: Forward pass: run the inputs through the network to get predictions\n",
        "        outputs = net(inputs)\n",
        "\n",
        "        # MEASURE ERROR: Compute the loss (how far the predictions are from the actual labels)\n",
        "        loss = criterion(outputs, labels)\n",
        "\n",
        "        # LEARN FROM MISTAKES: Backward pass: calculate the gradients (partial derivatives of loss with respect to each parameter)\n",
        "        loss.backward()\n",
        "\n",
        "        # IMPROVE: Update the network parameters (weights and biases) using the computed gradients\n",
        "        optimizer.step()\n",
        "\n",
        "        # Accumulate the loss value (convert loss tensor to a Python number with loss.item())\n",
        "        running_loss += loss.item()\n",
        "\n",
        "        # Every 2000 mini-batches, print the average loss over those batches to monitor progress\n",
        "        if i % 2000 == 1999:  # When the index is 1999, 3999, etc.\n",
        "            print(f'[{epoch + 1}, {i + 1:5d}] loss: {running_loss / 2000:.3f}')\n",
        "            running_loss = 0.0  # Reset running_loss for the next set of mini-batches\n",
        "\n",
        "print('Finished Training')\n"
      ],
      "metadata": {
        "colab": {
          "base_uri": "https://localhost:8080/"
        },
        "id": "1866oZ9cKHbn",
        "outputId": "d3c6757e-95a0-4c78-c29c-bf6a53c4b71c"
      },
      "execution_count": 25,
      "outputs": [
        {
          "output_type": "stream",
          "name": "stdout",
          "text": [
            "[1,  2000] loss: 2.150\n",
            "[1,  4000] loss: 1.851\n",
            "[1,  6000] loss: 1.673\n",
            "[1,  8000] loss: 1.565\n",
            "[1, 10000] loss: 1.515\n",
            "[1, 12000] loss: 1.449\n",
            "[2,  2000] loss: 1.374\n",
            "[2,  4000] loss: 1.356\n",
            "[2,  6000] loss: 1.324\n",
            "[2,  8000] loss: 1.319\n",
            "[2, 10000] loss: 1.295\n",
            "[2, 12000] loss: 1.248\n",
            "Finished Training\n"
          ]
        }
      ]
    },
    {
      "cell_type": "markdown",
      "source": [
        "saving the trained model"
      ],
      "metadata": {
        "id": "MgFSw3MPMHL5"
      }
    },
    {
      "cell_type": "code",
      "source": [
        "PATH = './cifar_net.pth'\n",
        "torch.save(net.state_dict(), PATH)"
      ],
      "metadata": {
        "id": "KHYhzS21MGv9"
      },
      "execution_count": 26,
      "outputs": []
    },
    {
      "cell_type": "markdown",
      "source": [
        "Testing the network on testing data"
      ],
      "metadata": {
        "id": "VRiGZIpCMMPb"
      }
    },
    {
      "cell_type": "code",
      "source": [
        "dataiter = iter(testloader)\n",
        "images, labels = next(dataiter)\n",
        "\n",
        "# print images\n",
        "show_img(torchvision.utils.make_grid(images))\n",
        "print('GroundTruth: ', ' '.join(f'{classes[labels[j]]:5s}' for j in range(4)))"
      ],
      "metadata": {
        "colab": {
          "base_uri": "https://localhost:8080/",
          "height": 211
        },
        "id": "bZ5ElDNLMN-q",
        "outputId": "0dd7a65c-95c0-4187-950e-98ed748d730b"
      },
      "execution_count": 28,
      "outputs": [
        {
          "output_type": "display_data",
          "data": {
            "text/plain": [
              "<Figure size 640x480 with 1 Axes>"
            ],
            "image/png": "[encoded data removed]"
          },
          "metadata": {}
        },
        {
          "output_type": "stream",
          "name": "stdout",
          "text": [
            "GroundTruth:  cat   ship  ship  plane\n"
          ]
        }
      ]
    },
    {
      "cell_type": "markdown",
      "source": [],
      "metadata": {
        "id": "554DwTf3NZcO"
      }
    },
    {
      "cell_type": "code",
      "source": [
        "net = Net()\n",
        "net.load_state_dict(torch.load(PATH, weights_only=True)) # Load the saved model weights (parameters) from the file at PATH into the network"
      ],
      "metadata": {
        "colab": {
          "base_uri": "https://localhost:8080/"
        },
        "id": "qOtbPlQfMY8X",
        "outputId": "98748411-8626-4daa-dcca-1cbc6eda138b"
      },
      "execution_count": 29,
      "outputs": [
        {
          "output_type": "execute_result",
          "data": {
            "text/plain": [
              "<All keys matched successfully>"
            ]
          },
          "metadata": {},
          "execution_count": 29
        }
      ]
    },
    {
      "cell_type": "markdown",
      "source": [
        "checking what the network thinks"
      ],
      "metadata": {
        "id": "qfWtchIfNX5J"
      }
    },
    {
      "cell_type": "code",
      "source": [
        "outputs = net(images)\n",
        "_, predicted = torch.max(outputs, 1)\n",
        "\n",
        "print('Predicted: ', ' '.join(f'{classes[predicted[j]]:5s}'\n",
        "                              for j in range(4)))"
      ],
      "metadata": {
        "colab": {
          "base_uri": "https://localhost:8080/"
        },
        "id": "Ld2ym8VzMdle",
        "outputId": "eae7cb7f-0069-4a75-84a7-aedd13a539af"
      },
      "execution_count": 35,
      "outputs": [
        {
          "output_type": "stream",
          "name": "stdout",
          "text": [
            "Predicted:  cat   car   car   plane\n"
          ]
        }
      ]
    },
    {
      "cell_type": "markdown",
      "source": [
        "looking at how the network performs on the entire dataset"
      ],
      "metadata": {
        "id": "MF9ubistNTJc"
      }
    },
    {
      "cell_type": "code",
      "source": [
        "correct = 0\n",
        "total = 0\n",
        "# since we're not training, we don't need to calculate the gradients for our outputs\n",
        "with torch.no_grad():\n",
        "    for data in testloader:\n",
        "        images, labels = data\n",
        "        # calculate outputs by running images through the network\n",
        "        outputs = net(images)\n",
        "        # the class with the highest energy is what we choose as prediction\n",
        "        _, predicted = torch.max(outputs, 1)\n",
        "        total += labels.size(0)\n",
        "        correct += (predicted == labels).sum().item()\n",
        "\n",
        "print(f'Accuracy of the network on the 10000 test images: {100 * correct // total} %')"
      ],
      "metadata": {
        "colab": {
          "base_uri": "https://localhost:8080/"
        },
        "id": "S8Mz-O3IMdyJ",
        "outputId": "b2ad8912-47ca-4eb6-a42e-b22a3e41cf28"
      },
      "execution_count": 36,
      "outputs": [
        {
          "output_type": "stream",
          "name": "stdout",
          "text": [
            "Accuracy of the network on the 10000 test images: 54 %\n"
          ]
        }
      ]
    },
    {
      "cell_type": "markdown",
      "source": [
        "Viewing the performance of different classes"
      ],
      "metadata": {
        "id": "x5iCi0SaNMLN"
      }
    },
    {
      "cell_type": "code",
      "source": [
        "# prepare to count predictions for each class\n",
        "correct_pred = {classname: 0 for classname in classes}\n",
        "total_pred = {classname: 0 for classname in classes}\n",
        "\n",
        "# again no gradients needed\n",
        "with torch.no_grad():\n",
        "    for data in testloader:\n",
        "        images, labels = data\n",
        "        outputs = net(images)\n",
        "        _, predictions = torch.max(outputs, 1)\n",
        "        # collect the correct predictions for each class\n",
        "        for label, prediction in zip(labels, predictions):\n",
        "            if label == prediction:\n",
        "                correct_pred[classes[label]] += 1\n",
        "            total_pred[classes[label]] += 1\n",
        "\n",
        "\n",
        "# print accuracy for each class\n",
        "for classname, correct_count in correct_pred.items():\n",
        "    accuracy = 100 * float(correct_count) / total_pred[classname]\n",
        "    print(f'Accuracy for class: {classname:5s} is {accuracy:.1f} %')"
      ],
      "metadata": {
        "colab": {
          "base_uri": "https://localhost:8080/"
        },
        "id": "T2vlAN15NGoH",
        "outputId": "048dab4f-d67a-41a9-8ec0-30c3fb9f351e"
      },
      "execution_count": 37,
      "outputs": [
        {
          "output_type": "stream",
          "name": "stdout",
          "text": [
            "Accuracy for class: plane is 59.9 %\n",
            "Accuracy for class: car   is 76.5 %\n",
            "Accuracy for class: bird  is 38.0 %\n",
            "Accuracy for class: cat   is 33.1 %\n",
            "Accuracy for class: deer  is 52.0 %\n",
            "Accuracy for class: dog   is 42.2 %\n",
            "Accuracy for class: frog  is 68.4 %\n",
            "Accuracy for class: horse is 74.7 %\n",
            "Accuracy for class: ship  is 45.1 %\n",
            "Accuracy for class: truck is 53.7 %\n"
          ]
        }
      ]
    }
  ]
}