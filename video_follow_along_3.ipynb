{
  "nbformat": 4,
  "nbformat_minor": 0,
  "metadata": {
    "colab": {
      "provenance": [],
      "authorship_tag": "ABX9TyOyCrCsNrZo7Aeu+CvNytxa",
      "include_colab_link": true
    },
    "kernelspec": {
      "name": "python3",
      "display_name": "Python 3"
    },
    "language_info": {
      "name": "python"
    }
  },
  "cells": [
    {
      "cell_type": "markdown",
      "metadata": {
        "id": "view-in-github",
        "colab_type": "text"
      },
      "source": [
        "<a href=\"https://colab.research.google.com/github/ANDREW-Li-33/pytorch-learning/blob/main/video_follow_along_3.ipynb\" target=\"_parent\"><img src=\"https://colab.research.google.com/assets/colab-badge.svg\" alt=\"Open In Colab\"/></a>"
      ]
    },
    {
      "cell_type": "markdown",
      "source": [
        "# Tensor Operations\n",
        "- addition\n",
        "- subtraction\n",
        "- multiplication (element-wise)\n",
        "- division\n",
        "- matrix multiplication"
      ],
      "metadata": {
        "id": "6-UTdPGLEz7F"
      }
    },
    {
      "cell_type": "code",
      "source": [
        "import torch"
      ],
      "metadata": {
        "id": "Kzl9MZfSFYNa"
      },
      "execution_count": 3,
      "outputs": []
    },
    {
      "cell_type": "code",
      "source": [
        "a = torch.tensor([1, 2, 3])\n",
        "print(a + 100)\n",
        "print(a - 100)\n",
        "print(a * 100) # element wise multiplication (multiplying by a scalar)\n",
        "print(a / 100)\n",
        "a = a * 20\n",
        "print(a)\n",
        "print(torch.mul(a, 10)) # check out the documentation for more\n",
        "print(torch.log(a))"
      ],
      "metadata": {
        "colab": {
          "base_uri": "https://localhost:8080/"
        },
        "id": "Jm0XKLdXFQPL",
        "outputId": "5350cf57-4a39-4655-d23e-08ff85abc38d"
      },
      "execution_count": 18,
      "outputs": [
        {
          "output_type": "stream",
          "name": "stdout",
          "text": [
            "tensor([101, 102, 103])\n",
            "tensor([-99, -98, -97])\n",
            "tensor([100, 200, 300])\n",
            "tensor([0.0100, 0.0200, 0.0300])\n",
            "tensor([20, 40, 60])\n",
            "tensor([200, 400, 600])\n",
            "tensor([2.9957, 3.6889, 4.0943])\n"
          ]
        }
      ]
    },
    {
      "cell_type": "markdown",
      "source": [
        "matrix multiplication. you can think of matrix multiplication as a chain of dot products"
      ],
      "metadata": {
        "id": "iDXhhdsPI-Gz"
      }
    },
    {
      "cell_type": "code",
      "source": [
        "tensor = torch.tensor([1, 2, 3])"
      ],
      "metadata": {
        "id": "6HPuMkdbI9-Q"
      },
      "execution_count": 21,
      "outputs": []
    },
    {
      "cell_type": "code",
      "source": [
        "%%time\n",
        "value = 0\n",
        "for i in range(len(tensor)):\n",
        "  value += tensor[i] * tensor[i]\n",
        "value"
      ],
      "metadata": {
        "colab": {
          "base_uri": "https://localhost:8080/"
        },
        "id": "hvba3pWcKTHF",
        "outputId": "d990ee22-10de-499b-f87f-af6dae1efe1b"
      },
      "execution_count": 44,
      "outputs": [
        {
          "output_type": "stream",
          "name": "stdout",
          "text": [
            "CPU times: user 1.99 ms, sys: 0 ns, total: 1.99 ms\n",
            "Wall time: 1.55 ms\n"
          ]
        },
        {
          "output_type": "execute_result",
          "data": {
            "text/plain": [
              "tensor(14)"
            ]
          },
          "metadata": {},
          "execution_count": 44
        }
      ]
    },
    {
      "cell_type": "code",
      "source": [
        "%%time\n",
        "torch.matmul(tensor, tensor)"
      ],
      "metadata": {
        "colab": {
          "base_uri": "https://localhost:8080/"
        },
        "id": "XkNYpKJFKUA-",
        "outputId": "909d4220-da94-47b6-c0c7-4b55f9a6d893"
      },
      "execution_count": 45,
      "outputs": [
        {
          "output_type": "stream",
          "name": "stdout",
          "text": [
            "CPU times: user 91 µs, sys: 7 µs, total: 98 µs\n",
            "Wall time: 102 µs\n"
          ]
        },
        {
          "output_type": "execute_result",
          "data": {
            "text/plain": [
              "tensor(14)"
            ]
          },
          "metadata": {},
          "execution_count": 45
        }
      ]
    },
    {
      "cell_type": "markdown",
      "source": [
        "Notice how much faster PyTorch's built-in matrix multiplication function is compared to manually computing the matrix mutliplication\n",
        "Also notice that this isn't a valid matrix multipilication (inner dimensions must match, but the operation above is multipyling 1x3 by 1x3 and the inner 3 and 1 do not match), but if PyTorch notices that both input tensors are one-dimensional, it will compute the dot product"
      ],
      "metadata": {
        "id": "JiNGZT4EKp_9"
      }
    },
    {
      "cell_type": "markdown",
      "source": [
        "matrix multiplication in PyTorch is represented by the @ operator\n",
        "you can also write torch.matmul(tensor, tensor) or torch.mm(tensor, tensor)"
      ],
      "metadata": {
        "id": "2-65gp0gLrLx"
      }
    },
    {
      "cell_type": "markdown",
      "source": [
        "to fix tensor shape issues, we can manipulate the shape of our tensors using Transpose"
      ],
      "metadata": {
        "id": "zN_vIA0CND5E"
      }
    },
    {
      "cell_type": "code",
      "source": [
        "print(tensor)\n",
        "print(tensor.T) # notice that 1D tensors don't change when transposed in PyTorch"
      ],
      "metadata": {
        "colab": {
          "base_uri": "https://localhost:8080/"
        },
        "id": "NZ-DnArkKpt_",
        "outputId": "ddc84b4d-32e0-4e8a-a082-620dcbbfd704"
      },
      "execution_count": 49,
      "outputs": [
        {
          "output_type": "stream",
          "name": "stdout",
          "text": [
            "tensor([1, 2, 3])\n",
            "tensor([1, 2, 3])\n"
          ]
        }
      ]
    },
    {
      "cell_type": "code",
      "source": [
        "tensor_2 = torch.rand([4, 2])\n",
        "print(tensor_2)\n",
        "print(tensor_2.T)\n",
        "print(tensor_2.shape)\n",
        "print(tensor_2.T.shape)"
      ],
      "metadata": {
        "colab": {
          "base_uri": "https://localhost:8080/"
        },
        "id": "tWoAXzFINYrz",
        "outputId": "4bd41d86-4060-4c86-be92-828359251e2d"
      },
      "execution_count": 56,
      "outputs": [
        {
          "output_type": "stream",
          "name": "stdout",
          "text": [
            "tensor([[0.4243, 0.7791],\n",
            "        [0.2295, 0.0784],\n",
            "        [0.1545, 0.6344],\n",
            "        [0.9784, 0.6463]])\n",
            "tensor([[0.4243, 0.2295, 0.1545, 0.9784],\n",
            "        [0.7791, 0.0784, 0.6344, 0.6463]])\n",
            "torch.Size([4, 2])\n",
            "torch.Size([2, 4])\n"
          ]
        }
      ]
    },
    {
      "cell_type": "code",
      "source": [
        "tensor_3 = torch.rand([4, 2, 3])\n",
        "print(tensor_3)\n",
        "print(tensor_3.T) # notice that we can transpose tensors of higher dimensions"
      ],
      "metadata": {
        "colab": {
          "base_uri": "https://localhost:8080/"
        },
        "id": "Lxb8M-UyNuAw",
        "outputId": "443456fb-6241-49b8-c9d2-9396685e2fe4"
      },
      "execution_count": 58,
      "outputs": [
        {
          "output_type": "stream",
          "name": "stdout",
          "text": [
            "tensor([[[0.8737, 0.7488, 0.1369],\n",
            "         [0.7717, 0.5756, 0.7148]],\n",
            "\n",
            "        [[0.7895, 0.9956, 0.2779],\n",
            "         [0.4819, 0.5086, 0.2404]],\n",
            "\n",
            "        [[0.0453, 0.3200, 0.0352],\n",
            "         [0.8791, 0.3980, 0.2916]],\n",
            "\n",
            "        [[0.3922, 0.8529, 0.7900],\n",
            "         [0.0466, 0.7655, 0.8386]]])\n",
            "tensor([[[0.8737, 0.7895, 0.0453, 0.3922],\n",
            "         [0.7717, 0.4819, 0.8791, 0.0466]],\n",
            "\n",
            "        [[0.7488, 0.9956, 0.3200, 0.8529],\n",
            "         [0.5756, 0.5086, 0.3980, 0.7655]],\n",
            "\n",
            "        [[0.1369, 0.2779, 0.0352, 0.7900],\n",
            "         [0.7148, 0.2404, 0.2916, 0.8386]]])\n"
          ]
        }
      ]
    }
  ]
}