{
  "nbformat": 4,
  "nbformat_minor": 0,
  "metadata": {
    "colab": {
      "provenance": [],
      "gpuType": "T4"
    },
    "kernelspec": {
      "name": "python3",
      "display_name": "Python 3"
    },
    "language_info": {
      "name": "python"
    }
  },
  "cells": [
    {
      "cell_type": "markdown",
      "source": [
        "In Google Colab, Go to the tool bar -> Runtime -> Change runtime type -> select a GPU\n",
        "\n",
        "\n",
        "`!nvidia-smi` shows information about the current status of the NVIDIA GPU\n",
        "if you aren't connected to a GPU, you'll get\n",
        "\n",
        "```\n",
        "nvidia-smi: command not found\n",
        "```\n",
        "\n",
        "prepending a cell with ! runs the content of the cell as a shell command\n",
        "\n"
      ],
      "metadata": {
        "id": "BonjogHUNChv"
      }
    },
    {
      "cell_type": "code",
      "execution_count": 3,
      "metadata": {
        "colab": {
          "base_uri": "https://localhost:8080/"
        },
        "id": "Iqeptd5zMneP",
        "outputId": "cf48bbd1-79bb-422e-d212-bb3c0fb49fbf"
      },
      "outputs": [
        {
          "output_type": "stream",
          "name": "stdout",
          "text": [
            "/bin/bash: line 1: nvidia-smi: command not found\n"
          ]
        }
      ],
      "source": [
        "!nvidia-smi"
      ]
    },
    {
      "cell_type": "code",
      "source": [
        "import torch\n",
        "import pandas as pd\n",
        "import numpy as np\n",
        "import matplotlib.pyplot as plt\n",
        "print(torch.__version__)"
      ],
      "metadata": {
        "colab": {
          "base_uri": "https://localhost:8080/"
        },
        "id": "Lc0RWRE-NMee",
        "outputId": "889f81bd-3192-45ac-b5af-16dd2d4c0c97"
      },
      "execution_count": 4,
      "outputs": [
        {
          "output_type": "stream",
          "name": "stdout",
          "text": [
            "2.5.1+cu124\n"
          ]
        }
      ]
    },
    {
      "cell_type": "markdown",
      "source": [
        "Introduction to Tensors"
      ],
      "metadata": {
        "id": "WKKUX32kPBSb"
      }
    },
    {
      "cell_type": "code",
      "source": [
        "# scalar tensor\n",
        "scalar = torch.tensor(7)\n",
        "scalar\n",
        "scalar.ndim\n",
        "scalar.item() # get tensor back as Python integer"
      ],
      "metadata": {
        "colab": {
          "base_uri": "https://localhost:8080/"
        },
        "id": "GNScPNyFPObH",
        "outputId": "751e6dd0-80c2-472d-978d-f24ecd4042c6"
      },
      "execution_count": 5,
      "outputs": [
        {
          "output_type": "execute_result",
          "data": {
            "text/plain": [
              "7"
            ]
          },
          "metadata": {},
          "execution_count": 5
        }
      ]
    },
    {
      "cell_type": "code",
      "source": [
        "# vector\n",
        "vector = torch.tensor([7, 7]) # passing in a list\n",
        "vector.ndim\n"
      ],
      "metadata": {
        "colab": {
          "base_uri": "https://localhost:8080/"
        },
        "id": "OvZ_IdLiP2On",
        "outputId": "099866f0-0fd2-48a8-f617-af2305bc53d7"
      },
      "execution_count": 6,
      "outputs": [
        {
          "output_type": "execute_result",
          "data": {
            "text/plain": [
              "1"
            ]
          },
          "metadata": {},
          "execution_count": 6
        }
      ]
    },
    {
      "cell_type": "code",
      "source": [
        "vector.shape"
      ],
      "metadata": {
        "colab": {
          "base_uri": "https://localhost:8080/"
        },
        "id": "_bf9r0fCQJ0_",
        "outputId": "3df956b0-4e7e-48df-9910-eb1915df2cfe"
      },
      "execution_count": 7,
      "outputs": [
        {
          "output_type": "execute_result",
          "data": {
            "text/plain": [
              "torch.Size([2])"
            ]
          },
          "metadata": {},
          "execution_count": 7
        }
      ]
    },
    {
      "cell_type": "code",
      "source": [
        "# MATRIX\n",
        "MATRIX = torch.tensor([[7, 8],\n",
        "                      [9, 10]])\n",
        "MATRIX\n",
        "print(MATRIX.ndim)\n",
        "print(MATRIX[0])\n",
        "print(MATRIX[1])\n",
        "print(MATRIX.shape)"
      ],
      "metadata": {
        "colab": {
          "base_uri": "https://localhost:8080/"
        },
        "id": "DTa-nn5wQXYr",
        "outputId": "a36ce939-a93f-4374-e5b3-842b71b2dcbd"
      },
      "execution_count": 8,
      "outputs": [
        {
          "output_type": "stream",
          "name": "stdout",
          "text": [
            "2\n",
            "tensor([7, 8])\n",
            "tensor([ 9, 10])\n",
            "torch.Size([2, 2])\n"
          ]
        }
      ]
    },
    {
      "cell_type": "code",
      "source": [
        "# TENSOR, remember that that torch.tensor() only takes in one argument!\n",
        "TENSOR = torch.tensor([[1, 2, 3],\n",
        "                      [3, 4, 4],\n",
        "                      [4, 5, 5]])\n",
        "print(TENSOR)\n",
        "print(TENSOR.ndim)\n",
        "print(TENSOR.shape)\n",
        "\n",
        "TENSOR2 = torch.tensor([[1, 2, 3],\n",
        "                        [4, 5, 6]])\n",
        "print(TENSOR2.ndim)\n",
        "print(TENSOR2.shape)\n",
        "\n",
        "TENSOR3 = torch.tensor([[[3], [4], [5]]])\n",
        "print(TENSOR3.ndim)\n",
        "print(TENSOR3.shape)"
      ],
      "metadata": {
        "colab": {
          "base_uri": "https://localhost:8080/"
        },
        "id": "0n5_LjC5QjzT",
        "outputId": "7860d2b9-e6ff-4c0e-8b16-4ce44bec64e4"
      },
      "execution_count": 11,
      "outputs": [
        {
          "output_type": "stream",
          "name": "stdout",
          "text": [
            "tensor([[1, 2, 3],\n",
            "        [3, 4, 4],\n",
            "        [4, 5, 5]])\n",
            "2\n",
            "torch.Size([3, 3])\n",
            "2\n",
            "torch.Size([2, 3])\n",
            "3\n",
            "torch.Size([1, 3, 1])\n"
          ]
        }
      ]
    },
    {
      "cell_type": "markdown",
      "source": [
        "Random tensors are actually really important! The way that many Neural Networks learn is by starting with tensors full of random numbers and continuously changing those random numbers to better represent the data!"
      ],
      "metadata": {
        "id": "4SPW8DIlY3n3"
      }
    },
    {
      "cell_type": "code",
      "source": [
        "random_tensor = torch.rand(size=(3,4))\n",
        "print(random_tensor)\n",
        "print(random_tensor.dtype)"
      ],
      "metadata": {
        "colab": {
          "base_uri": "https://localhost:8080/"
        },
        "id": "FR2acffyVWnt",
        "outputId": "8ace1f9c-9464-454b-ca2a-12fd0e53002f"
      },
      "execution_count": 15,
      "outputs": [
        {
          "output_type": "stream",
          "name": "stdout",
          "text": [
            "tensor([[0.3640, 0.0489, 0.9196, 0.5182],\n",
            "        [0.8130, 0.5930, 0.5555, 0.1911],\n",
            "        [0.0063, 0.1490, 0.1652, 0.0125]])\n",
            "torch.float32\n"
          ]
        }
      ]
    },
    {
      "cell_type": "markdown",
      "source": [
        "create a random tensor with a similar shape to an image tensor"
      ],
      "metadata": {
        "id": "oD9sbjOAaSBY"
      }
    },
    {
      "cell_type": "code",
      "source": [
        "random_image_size_tensor = torch.rand(224, 224, 3) # notice you don't have to explicitly use the size parameter because of positional arguments ()\n",
        "random_image_size_tensor.ndim, random_image_size_tensor.shape"
      ],
      "metadata": {
        "colab": {
          "base_uri": "https://localhost:8080/"
        },
        "id": "xJJisAibaR2c",
        "outputId": "ec0dc615-fa83-4168-a2c3-691681f8cb15"
      },
      "execution_count": 26,
      "outputs": [
        {
          "output_type": "execute_result",
          "data": {
            "text/plain": [
              "(3, torch.Size([224, 224, 3]))"
            ]
          },
          "metadata": {},
          "execution_count": 26
        }
      ]
    },
    {
      "cell_type": "code",
      "source": [
        "zeros = torch.zeros([3, 4], dtype=int)\n",
        "zeros\n",
        "\n",
        "zeros_again = torch.zeros(size=(3,4), dtype=bool)\n",
        "zeros_again"
      ],
      "metadata": {
        "colab": {
          "base_uri": "https://localhost:8080/"
        },
        "id": "XCKlfL1bXMig",
        "outputId": "c788d0bc-4a5c-4286-c159-799dc34ba48f"
      },
      "execution_count": 22,
      "outputs": [
        {
          "output_type": "execute_result",
          "data": {
            "text/plain": [
              "tensor([[False, False, False, False],\n",
              "        [False, False, False, False],\n",
              "        [False, False, False, False]])"
            ]
          },
          "metadata": {},
          "execution_count": 22
        }
      ]
    }
  ]
}