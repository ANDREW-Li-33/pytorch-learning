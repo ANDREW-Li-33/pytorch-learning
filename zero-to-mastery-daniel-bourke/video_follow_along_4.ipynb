{
  "nbformat": 4,
  "nbformat_minor": 0,
  "metadata": {
    "colab": {
      "provenance": [],
      "authorship_tag": "ABX9TyNfkXfUPmFM86EXLW3yDMNn",
      "include_colab_link": true
    },
    "kernelspec": {
      "name": "python3",
      "display_name": "Python 3"
    },
    "language_info": {
      "name": "python"
    }
  },
  "cells": [
    {
      "cell_type": "markdown",
      "metadata": {
        "id": "view-in-github",
        "colab_type": "text"
      },
      "source": [
        "<a href=\"https://colab.research.google.com/github/ANDREW-Li-33/pytorch-learning/blob/main/zero-to-mastery-daniel-bourke/video_follow_along_4.ipynb\" target=\"_parent\"><img src=\"https://colab.research.google.com/assets/colab-badge.svg\" alt=\"Open In Colab\"/></a>"
      ]
    },
    {
      "cell_type": "markdown",
      "source": [
        "## Tensor Aggregation (finding the min, max, mean, sum)"
      ],
      "metadata": {
        "id": "_k1XINKk5Kt2"
      }
    },
    {
      "cell_type": "markdown",
      "source": [
        "aggregating many numbers in a tensor into one number (ex. min, max, mean)"
      ],
      "metadata": {
        "id": "MRwPIbm15R0D"
      }
    },
    {
      "cell_type": "code",
      "source": [
        "import torch"
      ],
      "metadata": {
        "id": "j910UYCs5wIt"
      },
      "execution_count": null,
      "outputs": []
    },
    {
      "cell_type": "code",
      "source": [
        "x = torch.arange(0, 100, 10)\n",
        "x"
      ],
      "metadata": {
        "colab": {
          "base_uri": "https://localhost:8080/"
        },
        "id": "2mZ7FPS95Q4O",
        "outputId": "a9666907-450d-4d41-8ac6-785eb43cee33"
      },
      "execution_count": 63,
      "outputs": [
        {
          "output_type": "execute_result",
          "data": {
            "text/plain": [
              "tensor([ 0, 10, 20, 30, 40, 50, 60, 70, 80, 90])"
            ]
          },
          "metadata": {},
          "execution_count": 63
        }
      ]
    },
    {
      "cell_type": "code",
      "source": [
        "min = torch.min(x)\n",
        "min_again = x.min()\n",
        "max = torch.max(x)\n",
        "max_again = x.max()\n",
        "print(min, min_again, max, max_again)"
      ],
      "metadata": {
        "colab": {
          "base_uri": "https://localhost:8080/"
        },
        "id": "cC40b0N-52fE",
        "outputId": "fd6cc9fd-5d92-46aa-b633-1435fdfd3b01"
      },
      "execution_count": null,
      "outputs": [
        {
          "output_type": "stream",
          "name": "stdout",
          "text": [
            "tensor(0) tensor(0) tensor(90) tensor(90)\n"
          ]
        }
      ]
    },
    {
      "cell_type": "markdown",
      "source": [
        "notice that this won't work! the mean() method won't work on tensors of data type Long"
      ],
      "metadata": {
        "id": "zVvyAX9U6Tpe"
      }
    },
    {
      "cell_type": "code",
      "source": [
        "x.mean()"
      ],
      "metadata": {
        "colab": {
          "base_uri": "https://localhost:8080/",
          "height": 144
        },
        "id": "MRAQ4cgk6LVu",
        "outputId": "5d4938bc-b492-4a96-df69-7f0361753212"
      },
      "execution_count": null,
      "outputs": [
        {
          "output_type": "error",
          "ename": "AttributeError",
          "evalue": "attribute 'dtype' of 'torch._C.TensorBase' objects is not writable",
          "traceback": [
            "\u001b[0;31m---------------------------------------------------------------------------\u001b[0m",
            "\u001b[0;31mAttributeError\u001b[0m                            Traceback (most recent call last)",
            "\u001b[0;32m<ipython-input-12-13b485dcfced>\u001b[0m in \u001b[0;36m<cell line: 0>\u001b[0;34m()\u001b[0m\n\u001b[0;32m----> 1\u001b[0;31m \u001b[0mx\u001b[0m\u001b[0;34m.\u001b[0m\u001b[0mdtype\u001b[0m \u001b[0;34m=\u001b[0m \u001b[0mfloat\u001b[0m\u001b[0;34m\u001b[0m\u001b[0;34m\u001b[0m\u001b[0m\n\u001b[0m",
            "\u001b[0;31mAttributeError\u001b[0m: attribute 'dtype' of 'torch._C.TensorBase' objects is not writable"
          ]
        }
      ]
    },
    {
      "cell_type": "code",
      "source": [
        "torch.mean(x.type(torch.float32)) # note the use of the .type() method"
      ],
      "metadata": {
        "colab": {
          "base_uri": "https://localhost:8080/"
        },
        "id": "VaFahFxh6n3q",
        "outputId": "f34c3110-7e35-4599-c113-b4bcdedf22de"
      },
      "execution_count": null,
      "outputs": [
        {
          "output_type": "execute_result",
          "data": {
            "text/plain": [
              "tensor(45.)"
            ]
          },
          "metadata": {},
          "execution_count": 14
        }
      ]
    },
    {
      "cell_type": "code",
      "source": [
        "x.mean*()"
      ],
      "metadata": {
        "id": "-V-RZH1t69AJ"
      },
      "execution_count": null,
      "outputs": []
    },
    {
      "cell_type": "code",
      "source": [
        "y = torch.arange(0, 100, 10, dtype=float)\n",
        "y.mean()\n",
        "max = torch.max(x)"
      ],
      "metadata": {
        "colab": {
          "base_uri": "https://localhost:8080/"
        },
        "id": "zzSAlIVQ6MY7",
        "outputId": "c40c212e-600c-49bf-f5be-424ceb3135c0"
      },
      "execution_count": 19,
      "outputs": [
        {
          "output_type": "execute_result",
          "data": {
            "text/plain": [
              "tensor(9)"
            ]
          },
          "metadata": {},
          "execution_count": 19
        }
      ]
    },
    {
      "cell_type": "code",
      "source": [
        "# find the sum\n",
        "torch.sum(x), x.sum()"
      ],
      "metadata": {
        "colab": {
          "base_uri": "https://localhost:8080/"
        },
        "id": "OMUCtQm17GU8",
        "outputId": "065bddb9-c695-49bd-9169-72b6411446ec"
      },
      "execution_count": null,
      "outputs": [
        {
          "output_type": "execute_result",
          "data": {
            "text/plain": [
              "(tensor(450), tensor(450))"
            ]
          },
          "metadata": {},
          "execution_count": 15
        }
      ]
    },
    {
      "cell_type": "markdown",
      "source": [
        "## Positional min and max"
      ],
      "metadata": {
        "id": "W3CnojIL7RJY"
      }
    },
    {
      "cell_type": "code",
      "source": [
        "torch.argmin(x), torch.argmax(x) # returns position (indices) of the min / max"
      ],
      "metadata": {
        "colab": {
          "base_uri": "https://localhost:8080/"
        },
        "id": "1FKim_Pc8wKR",
        "outputId": "533dbbb5-7844-4a1b-dc15-3e244f49340c"
      },
      "execution_count": 22,
      "outputs": [
        {
          "output_type": "execute_result",
          "data": {
            "text/plain": [
              "(tensor(0), tensor(9))"
            ]
          },
          "metadata": {},
          "execution_count": 22
        }
      ]
    },
    {
      "cell_type": "code",
      "source": [
        "max, indices = torch.max(x, dim=0)\n",
        "indices"
      ],
      "metadata": {
        "colab": {
          "base_uri": "https://localhost:8080/"
        },
        "id": "Ofs_IggS8rlf",
        "outputId": "d80c61f1-85e7-4279-aa2e-2f56954be8e8"
      },
      "execution_count": 20,
      "outputs": [
        {
          "output_type": "execute_result",
          "data": {
            "text/plain": [
              "tensor(9)"
            ]
          },
          "metadata": {},
          "execution_count": 20
        }
      ]
    },
    {
      "cell_type": "code",
      "source": [
        "b = torch.rand(3, 6)\n",
        "print(b, torch.argmin(b), torch.min(b))"
      ],
      "metadata": {
        "colab": {
          "base_uri": "https://localhost:8080/"
        },
        "id": "nmr15Af69RI2",
        "outputId": "3c576b79-31bc-4aa2-cb00-cd1a06051adc"
      },
      "execution_count": 35,
      "outputs": [
        {
          "output_type": "stream",
          "name": "stdout",
          "text": [
            "tensor([[0.2550, 0.4939, 0.2751, 0.3617, 0.1536, 0.2788],\n",
            "        [0.0759, 0.1352, 0.1519, 0.4050, 0.0367, 0.6887],\n",
            "        [0.2218, 0.7447, 0.2840, 0.2979, 0.5985, 0.6600]]) tensor(10) tensor(0.0367)\n"
          ]
        }
      ]
    },
    {
      "cell_type": "markdown",
      "source": [
        "## reshaping, stacking, squeezing, and unsqueezing tensors\n",
        "\n",
        "* Reshaping - reshapes an input tensor to a defined shape\n",
        "* View - Return a view of an input tensor of certain shape, but keep the same memory as the original tensor\n",
        "* Stacking - combine multiple tensors on top of each other (vstack) or side by side (hstack)\n",
        "* Squeeze - removes all '1' dimensions from a tensor\n",
        "* Unsqueeze - add a '1' dimension to a target torch.tensor\n",
        "* Permuate - return a view of the input with dimensions permuted"
      ],
      "metadata": {
        "id": "9CNm5Lyd9vw2"
      }
    },
    {
      "cell_type": "code",
      "source": [
        "c = torch.arange(1., 10.)\n",
        "c, c.shape"
      ],
      "metadata": {
        "colab": {
          "base_uri": "https://localhost:8080/"
        },
        "id": "B9sgn94c-gXW",
        "outputId": "008b9faa-6437-4187-e487-fe2499961e0a"
      },
      "execution_count": 38,
      "outputs": [
        {
          "output_type": "execute_result",
          "data": {
            "text/plain": [
              "(tensor([1., 2., 3., 4., 5., 6., 7., 8., 9.]), torch.Size([9]))"
            ]
          },
          "metadata": {},
          "execution_count": 38
        }
      ]
    },
    {
      "cell_type": "code",
      "source": [
        "# add an extra dimension\n",
        "x_reshaped = x.reshape(1, 10)\n",
        "x_reshaped, x_reshaped.shape"
      ],
      "metadata": {
        "colab": {
          "base_uri": "https://localhost:8080/"
        },
        "id": "zAKnJVu7-sau",
        "outputId": "97e2b30d-47c4-4558-feb4-2abf2e242451"
      },
      "execution_count": 41,
      "outputs": [
        {
          "output_type": "execute_result",
          "data": {
            "text/plain": [
              "(tensor([[ 0, 10, 20, 30, 40, 50, 60, 70, 80, 90]]), torch.Size([1, 10]))"
            ]
          },
          "metadata": {},
          "execution_count": 41
        }
      ]
    },
    {
      "cell_type": "code",
      "source": [
        "x_reshaped_again = x.reshape(10, 1)\n",
        "x_reshaped_again, x_reshaped_again.shape # note that the reshape has to be compatible with the original size!"
      ],
      "metadata": {
        "colab": {
          "base_uri": "https://localhost:8080/"
        },
        "id": "VuZKxdWD_SVK",
        "outputId": "3d44ab03-8877-4806-d923-090a11c4e420"
      },
      "execution_count": 43,
      "outputs": [
        {
          "output_type": "execute_result",
          "data": {
            "text/plain": [
              "(tensor([[ 0],\n",
              "         [10],\n",
              "         [20],\n",
              "         [30],\n",
              "         [40],\n",
              "         [50],\n",
              "         [60],\n",
              "         [70],\n",
              "         [80],\n",
              "         [90]]),\n",
              " torch.Size([10, 1]))"
            ]
          },
          "metadata": {},
          "execution_count": 43
        }
      ]
    },
    {
      "cell_type": "code",
      "source": [
        "y = x.reshape(5, 2)\n",
        "y, y.shape"
      ],
      "metadata": {
        "colab": {
          "base_uri": "https://localhost:8080/"
        },
        "id": "BkEGTDpG_hbD",
        "outputId": "2c78507f-f797-4c87-a4bf-b6bb2874ab0c"
      },
      "execution_count": 44,
      "outputs": [
        {
          "output_type": "execute_result",
          "data": {
            "text/plain": [
              "(tensor([[ 0, 10],\n",
              "         [20, 30],\n",
              "         [40, 50],\n",
              "         [60, 70],\n",
              "         [80, 90]]),\n",
              " torch.Size([5, 2]))"
            ]
          },
          "metadata": {},
          "execution_count": 44
        }
      ]
    },
    {
      "cell_type": "code",
      "source": [
        "f = x.reshape(2, 5)\n",
        "f"
      ],
      "metadata": {
        "colab": {
          "base_uri": "https://localhost:8080/"
        },
        "id": "alj5-LUm_0OZ",
        "outputId": "adfe486f-f73a-457c-a4f8-e296ac535963"
      },
      "execution_count": 64,
      "outputs": [
        {
          "output_type": "execute_result",
          "data": {
            "text/plain": [
              "tensor([[ 0, 10, 20, 30, 40],\n",
              "        [50, 60, 70, 80, 90]])"
            ]
          },
          "metadata": {},
          "execution_count": 64
        }
      ]
    },
    {
      "cell_type": "code",
      "source": [
        "# changing g change x because a view of a tensor points to the original tensor\n",
        "g = x.view(2, 5)\n",
        "\n",
        "g[:, 0] = 5\n",
        "g, x"
      ],
      "metadata": {
        "colab": {
          "base_uri": "https://localhost:8080/"
        },
        "id": "zOCSo7wNAKuQ",
        "outputId": "4982b883-62fc-4826-97a7-e65d9ea64e7c"
      },
      "execution_count": 72,
      "outputs": [
        {
          "output_type": "execute_result",
          "data": {
            "text/plain": [
              "(tensor([[ 5, 10, 20, 30, 40],\n",
              "         [ 5, 60, 70, 80, 90]]),\n",
              " tensor([ 5, 10, 20, 30, 40,  5, 60, 70, 80, 90]))"
            ]
          },
          "metadata": {},
          "execution_count": 72
        }
      ]
    },
    {
      "cell_type": "code",
      "source": [
        "x_stacked = torch.stack([x, x, x, x], dim=1) # default dimension is 0\n",
        "x_stacked"
      ],
      "metadata": {
        "colab": {
          "base_uri": "https://localhost:8080/"
        },
        "id": "s9t8tUrsBTQ3",
        "outputId": "38569879-9809-425e-bb9b-3a0f7e4dea0b"
      },
      "execution_count": 80,
      "outputs": [
        {
          "output_type": "execute_result",
          "data": {
            "text/plain": [
              "tensor([[ 5,  5,  5,  5],\n",
              "        [10, 10, 10, 10],\n",
              "        [20, 20, 20, 20],\n",
              "        [30, 30, 30, 30],\n",
              "        [40, 40, 40, 40],\n",
              "        [ 5,  5,  5,  5],\n",
              "        [60, 60, 60, 60],\n",
              "        [70, 70, 70, 70],\n",
              "        [80, 80, 80, 80],\n",
              "        [90, 90, 90, 90]])"
            ]
          },
          "metadata": {},
          "execution_count": 80
        }
      ]
    },
    {
      "cell_type": "code",
      "source": [
        "x_stacked = torch.hstack([x, x, x, x])\n",
        "x_stacked"
      ],
      "metadata": {
        "colab": {
          "base_uri": "https://localhost:8080/"
        },
        "id": "c9djpRu_DZnb",
        "outputId": "00cdd18f-ddaa-46b8-b8b5-0ecabf32d46a"
      },
      "execution_count": 82,
      "outputs": [
        {
          "output_type": "execute_result",
          "data": {
            "text/plain": [
              "tensor([ 5, 10, 20, 30, 40,  5, 60, 70, 80, 90,  5, 10, 20, 30, 40,  5, 60, 70,\n",
              "        80, 90,  5, 10, 20, 30, 40,  5, 60, 70, 80, 90,  5, 10, 20, 30, 40,  5,\n",
              "        60, 70, 80, 90])"
            ]
          },
          "metadata": {},
          "execution_count": 82
        }
      ]
    },
    {
      "cell_type": "code",
      "source": [
        "x_stacked = torch.vstack([x, x, x, x])\n",
        "x_stacked"
      ],
      "metadata": {
        "colab": {
          "base_uri": "https://localhost:8080/"
        },
        "id": "k9K7m4XgDeX9",
        "outputId": "c32253c9-c98a-4e1e-a584-10e1ad426408"
      },
      "execution_count": 83,
      "outputs": [
        {
          "output_type": "execute_result",
          "data": {
            "text/plain": [
              "tensor([[ 5, 10, 20, 30, 40,  5, 60, 70, 80, 90],\n",
              "        [ 5, 10, 20, 30, 40,  5, 60, 70, 80, 90],\n",
              "        [ 5, 10, 20, 30, 40,  5, 60, 70, 80, 90],\n",
              "        [ 5, 10, 20, 30, 40,  5, 60, 70, 80, 90]])"
            ]
          },
          "metadata": {},
          "execution_count": 83
        }
      ]
    },
    {
      "cell_type": "code",
      "source": [
        "# torch.squeeze() - removes all single dimensions from an input tensor\n",
        "x = torch.zeros(2, 1, 2, 1, 2)\n",
        "x.size()"
      ],
      "metadata": {
        "colab": {
          "base_uri": "https://localhost:8080/"
        },
        "id": "F4-DKfI4DyE6",
        "outputId": "c9780137-ced2-45de-93e0-6c1c818b635d"
      },
      "execution_count": 86,
      "outputs": [
        {
          "output_type": "execute_result",
          "data": {
            "text/plain": [
              "torch.Size([2, 1, 2, 1, 2])"
            ]
          },
          "metadata": {},
          "execution_count": 86
        }
      ]
    },
    {
      "cell_type": "code",
      "source": [
        "y = torch.squeeze(x)\n",
        "y.size()"
      ],
      "metadata": {
        "colab": {
          "base_uri": "https://localhost:8080/"
        },
        "id": "sz4J7NqiEDOK",
        "outputId": "bc32ce51-dc36-4ee8-b9e0-405dcd2c43be"
      },
      "execution_count": 90,
      "outputs": [
        {
          "output_type": "execute_result",
          "data": {
            "text/plain": [
              "torch.Size([2, 2, 2])"
            ]
          },
          "metadata": {},
          "execution_count": 90
        }
      ]
    },
    {
      "cell_type": "code",
      "source": [
        "y = torch.squeeze(x, 0)\n",
        "y.size()"
      ],
      "metadata": {
        "colab": {
          "base_uri": "https://localhost:8080/"
        },
        "id": "Ah57ZIqNEsvk",
        "outputId": "225253f5-38ce-4fb4-a549-9364f77ce618"
      },
      "execution_count": 94,
      "outputs": [
        {
          "output_type": "execute_result",
          "data": {
            "text/plain": [
              "torch.Size([2, 1, 2, 1, 2])"
            ]
          },
          "metadata": {},
          "execution_count": 94
        }
      ]
    },
    {
      "cell_type": "code",
      "source": [
        "y = torch.squeeze(x, 1)\n",
        "y.size()"
      ],
      "metadata": {
        "colab": {
          "base_uri": "https://localhost:8080/"
        },
        "id": "rBtGRbf1FAWs",
        "outputId": "5f5ff113-9eef-45d1-b420-8e82d729e7b0"
      },
      "execution_count": 95,
      "outputs": [
        {
          "output_type": "execute_result",
          "data": {
            "text/plain": [
              "torch.Size([2, 2, 1, 2])"
            ]
          },
          "metadata": {},
          "execution_count": 95
        }
      ]
    },
    {
      "cell_type": "code",
      "source": [
        "r = torch.zeros(1, 2, 3, 1, 4)\n",
        "j = torch.squeeze(r) # indices / dimensions 0 and 3 are 1. Therefore, they are removed\n",
        "print(j.size())\n",
        "\n",
        "k = torch.squeeze(r, 3) # index 3 (dimension 3) is 1. therefore, it is removed\n",
        "print(k.size())\n",
        "\n",
        "k = torch.squeeze(r, 2)\n",
        "print(k.size()) # note that k remains the same as r because dim 2 (index 2 in the size list) is not 1. Squeeze will only remove the specified dimension if it's size 1"
      ],
      "metadata": {
        "colab": {
          "base_uri": "https://localhost:8080/"
        },
        "id": "5bCUZe7xFrzx",
        "outputId": "0935ebea-65d0-4510-a596-2c781189a0d6"
      },
      "execution_count": 102,
      "outputs": [
        {
          "output_type": "stream",
          "name": "stdout",
          "text": [
            "torch.Size([2, 3, 4])\n",
            "torch.Size([1, 2, 3, 4])\n",
            "torch.Size([1, 2, 3, 1, 4])\n"
          ]
        }
      ]
    },
    {
      "cell_type": "code",
      "source": [
        "# unsqueezing\n",
        "\n",
        "print(f\"squeezed tensor: {j}\")\n",
        "print(f\"squeezed tensor shape: {j.shape}\")\n",
        "\n",
        "# basically inserting a 1 at input index / dimension in the shape list\n",
        "j_unsqueezed = j.unsqueeze(dim=1)\n",
        "\n",
        "print(f\"unsqueezed tensor: {j_unsqueezed}\")\n",
        "print(f\"unsqueezed tensor shape: {j_unsqueezed.shape}\")"
      ],
      "metadata": {
        "colab": {
          "base_uri": "https://localhost:8080/"
        },
        "id": "gw1qH9IJG9nY",
        "outputId": "31c4cea9-e42b-44e9-ca4e-09236f361c80"
      },
      "execution_count": 105,
      "outputs": [
        {
          "output_type": "stream",
          "name": "stdout",
          "text": [
            "squeezed tensor: tensor([[[0., 0., 0., 0.],\n",
            "         [0., 0., 0., 0.],\n",
            "         [0., 0., 0., 0.]],\n",
            "\n",
            "        [[0., 0., 0., 0.],\n",
            "         [0., 0., 0., 0.],\n",
            "         [0., 0., 0., 0.]]])\n",
            "squeezed tensor shape: torch.Size([2, 3, 4])\n",
            "unsqueezed tensor: tensor([[[[0., 0., 0., 0.],\n",
            "          [0., 0., 0., 0.],\n",
            "          [0., 0., 0., 0.]]],\n",
            "\n",
            "\n",
            "        [[[0., 0., 0., 0.],\n",
            "          [0., 0., 0., 0.],\n",
            "          [0., 0., 0., 0.]]]])\n",
            "unsqueezed tensor shape: torch.Size([2, 1, 3, 4])\n"
          ]
        }
      ]
    },
    {
      "cell_type": "markdown",
      "source": [
        "## permuting"
      ],
      "metadata": {
        "id": "VY1XLokeH5Yz"
      }
    },
    {
      "cell_type": "code",
      "source": [
        "x = torch.randn(2, 3, 5)\n",
        "x.size()"
      ],
      "metadata": {
        "colab": {
          "base_uri": "https://localhost:8080/"
        },
        "id": "73cbktUuIGvU",
        "outputId": "d069df5c-66e3-4c19-bc00-06346435eb9b"
      },
      "execution_count": 108,
      "outputs": [
        {
          "output_type": "execute_result",
          "data": {
            "text/plain": [
              "torch.Size([2, 3, 5])"
            ]
          },
          "metadata": {},
          "execution_count": 108
        }
      ]
    },
    {
      "cell_type": "code",
      "source": [
        "x_permuted = torch.permute(x, (2, 0, 1))\n",
        "x_permuted.size()"
      ],
      "metadata": {
        "colab": {
          "base_uri": "https://localhost:8080/"
        },
        "id": "NjQvNx6aIKLW",
        "outputId": "1a5b4576-7b60-4059-f9db-b8488aadde0c"
      },
      "execution_count": 110,
      "outputs": [
        {
          "output_type": "execute_result",
          "data": {
            "text/plain": [
              "torch.Size([5, 2, 3])"
            ]
          },
          "metadata": {},
          "execution_count": 110
        }
      ]
    },
    {
      "cell_type": "code",
      "source": [
        "# a practical example, working with image tneosrs\n",
        "\n",
        "image_tensor = torch.rand(224, 224, 3)\n",
        "\n",
        "image_permuted = image_tensor.permute(2, 0, 1)\n",
        "image_permuted.shape"
      ],
      "metadata": {
        "colab": {
          "base_uri": "https://localhost:8080/"
        },
        "id": "EJthhFA3JRD2",
        "outputId": "340ccbe9-539b-424c-dbd1-cdc95e4f1602"
      },
      "execution_count": 113,
      "outputs": [
        {
          "output_type": "execute_result",
          "data": {
            "text/plain": [
              "torch.Size([3, 224, 224])"
            ]
          },
          "metadata": {},
          "execution_count": 113
        }
      ]
    },
    {
      "cell_type": "code",
      "source": [
        "image_tensor[0, 0, 0] =  5422324\n",
        "image_permuted[0, 0, 0] # note that the value in image_permuted changes as well because tensor.permute returns a view, and views point to the original tensor"
      ],
      "metadata": {
        "colab": {
          "base_uri": "https://localhost:8080/"
        },
        "id": "XkXb6xWqJks-",
        "outputId": "94abc938-55d7-4db8-c75c-6fd8233e1e0a"
      },
      "execution_count": 115,
      "outputs": [
        {
          "output_type": "execute_result",
          "data": {
            "text/plain": [
              "tensor(5422324.)"
            ]
          },
          "metadata": {},
          "execution_count": 115
        }
      ]
    },
    {
      "cell_type": "markdown",
      "source": [
        "## indexing (selecting data from tensors)\n",
        "\n",
        "Indexing with PyTorch is similar to indexing with Numpy"
      ],
      "metadata": {
        "id": "pLlk3l7ELKmq"
      }
    },
    {
      "cell_type": "code",
      "source": [
        "x = torch.arange(1, 10).reshape(1, 3, 3)\n",
        "x"
      ],
      "metadata": {
        "colab": {
          "base_uri": "https://localhost:8080/"
        },
        "id": "_4DOBez_LXIO",
        "outputId": "edb03959-2dac-4911-ae17-53e024b44847"
      },
      "execution_count": 120,
      "outputs": [
        {
          "output_type": "execute_result",
          "data": {
            "text/plain": [
              "tensor([[[1, 2, 3],\n",
              "         [4, 5, 6],\n",
              "         [7, 8, 9]]])"
            ]
          },
          "metadata": {},
          "execution_count": 120
        }
      ]
    },
    {
      "cell_type": "code",
      "source": [
        "# indexing x, notice there's one less pair of brakcets\n",
        "x[0]"
      ],
      "metadata": {
        "colab": {
          "base_uri": "https://localhost:8080/"
        },
        "id": "_88NDABpLlYJ",
        "outputId": "4f0c6355-17a3-4165-db62-b0dada761ba8"
      },
      "execution_count": 121,
      "outputs": [
        {
          "output_type": "execute_result",
          "data": {
            "text/plain": [
              "tensor([[1, 2, 3],\n",
              "        [4, 5, 6],\n",
              "        [7, 8, 9]])"
            ]
          },
          "metadata": {},
          "execution_count": 121
        }
      ]
    },
    {
      "cell_type": "code",
      "source": [
        "x[0, 0] # same as x[0][0]"
      ],
      "metadata": {
        "colab": {
          "base_uri": "https://localhost:8080/"
        },
        "id": "nqCfyCQjLrAl",
        "outputId": "a8424cbe-4693-4dad-ba13-3d07e4024aa8"
      },
      "execution_count": 122,
      "outputs": [
        {
          "output_type": "execute_result",
          "data": {
            "text/plain": [
              "tensor([1, 2, 3])"
            ]
          },
          "metadata": {},
          "execution_count": 122
        }
      ]
    },
    {
      "cell_type": "code",
      "source": [
        "x[0][1]"
      ],
      "metadata": {
        "colab": {
          "base_uri": "https://localhost:8080/"
        },
        "id": "HtxObmcqMFd3",
        "outputId": "45959de4-b7dd-48ab-a488-e74159bbfa8d"
      },
      "execution_count": 123,
      "outputs": [
        {
          "output_type": "execute_result",
          "data": {
            "text/plain": [
              "tensor([4, 5, 6])"
            ]
          },
          "metadata": {},
          "execution_count": 123
        }
      ]
    },
    {
      "cell_type": "code",
      "source": [
        "x[0][1][0]"
      ],
      "metadata": {
        "colab": {
          "base_uri": "https://localhost:8080/"
        },
        "id": "h-7JfVzqMHRR",
        "outputId": "a4b9f23b-073c-4d83-c08e-82ac3db0bf00"
      },
      "execution_count": 124,
      "outputs": [
        {
          "output_type": "execute_result",
          "data": {
            "text/plain": [
              "tensor(4)"
            ]
          },
          "metadata": {},
          "execution_count": 124
        }
      ]
    },
    {
      "cell_type": "code",
      "source": [
        "x[0][2][2]"
      ],
      "metadata": {
        "colab": {
          "base_uri": "https://localhost:8080/"
        },
        "id": "6yi3ZGZpMl77",
        "outputId": "57eb14f7-c1e4-4cbc-9e26-ce355d50740f"
      },
      "execution_count": 125,
      "outputs": [
        {
          "output_type": "execute_result",
          "data": {
            "text/plain": [
              "tensor(9)"
            ]
          },
          "metadata": {},
          "execution_count": 125
        }
      ]
    },
    {
      "cell_type": "code",
      "source": [
        "# you can also use \":\"\" to select \"all\" of a target dimension\n",
        "x[:, 0]"
      ],
      "metadata": {
        "colab": {
          "base_uri": "https://localhost:8080/"
        },
        "id": "vsAYJTsaMtCJ",
        "outputId": "2f9f4ef8-175e-4c8c-af8b-cc7be1fcd5e1"
      },
      "execution_count": 126,
      "outputs": [
        {
          "output_type": "execute_result",
          "data": {
            "text/plain": [
              "tensor([[1, 2, 3]])"
            ]
          },
          "metadata": {},
          "execution_count": 126
        }
      ]
    },
    {
      "cell_type": "code",
      "source": [
        "# get all values of 0th and first dimsions, but only 1 of the 2nd dimension\n",
        "x[:, :, 1]"
      ],
      "metadata": {
        "colab": {
          "base_uri": "https://localhost:8080/"
        },
        "id": "-G71hAkuMyeL",
        "outputId": "7299e4be-6b9b-485c-8918-21bbff76847a"
      },
      "execution_count": 127,
      "outputs": [
        {
          "output_type": "execute_result",
          "data": {
            "text/plain": [
              "tensor([[2, 5, 8]])"
            ]
          },
          "metadata": {},
          "execution_count": 127
        }
      ]
    },
    {
      "cell_type": "code",
      "source": [
        "# get all values of the 0 dimension but only the 1 index value of 1st and 2nd dimension\n",
        "x[:, 1, 1]"
      ],
      "metadata": {
        "colab": {
          "base_uri": "https://localhost:8080/"
        },
        "id": "PhkJfBm9M__E",
        "outputId": "d2e88d49-1568-4b58-96e3-04f77a30e9c8"
      },
      "execution_count": 128,
      "outputs": [
        {
          "output_type": "execute_result",
          "data": {
            "text/plain": [
              "tensor([5])"
            ]
          },
          "metadata": {},
          "execution_count": 128
        }
      ]
    },
    {
      "cell_type": "code",
      "source": [
        "# get index 0 of 0th and 1st dimension and all values of 2nd dimension\n",
        "x[0, 0, :]"
      ],
      "metadata": {
        "colab": {
          "base_uri": "https://localhost:8080/"
        },
        "id": "W8iyw4OjNSy8",
        "outputId": "bbd120db-f2e4-407a-c468-4b24c7a39695"
      },
      "execution_count": 129,
      "outputs": [
        {
          "output_type": "execute_result",
          "data": {
            "text/plain": [
              "tensor([1, 2, 3])"
            ]
          },
          "metadata": {},
          "execution_count": 129
        }
      ]
    },
    {
      "cell_type": "code",
      "source": [
        "# index on x to return 9\n",
        "x[:, 2, 2]"
      ],
      "metadata": {
        "colab": {
          "base_uri": "https://localhost:8080/"
        },
        "id": "zA9PhJNmNawD",
        "outputId": "c703cd28-8ff4-47aa-8e0e-266a60f0e7ba"
      },
      "execution_count": 130,
      "outputs": [
        {
          "output_type": "execute_result",
          "data": {
            "text/plain": [
              "tensor([9])"
            ]
          },
          "metadata": {},
          "execution_count": 130
        }
      ]
    },
    {
      "cell_type": "code",
      "source": [
        "# index on x to return 3, 6, 9\n",
        "x[:, :, 2]"
      ],
      "metadata": {
        "colab": {
          "base_uri": "https://localhost:8080/"
        },
        "id": "oN5VaApsNhMF",
        "outputId": "1191a4d5-3335-4ee1-8856-39212d8991bd"
      },
      "execution_count": 132,
      "outputs": [
        {
          "output_type": "execute_result",
          "data": {
            "text/plain": [
              "tensor([[3, 6, 9]])"
            ]
          },
          "metadata": {},
          "execution_count": 132
        }
      ]
    }
  ]
}