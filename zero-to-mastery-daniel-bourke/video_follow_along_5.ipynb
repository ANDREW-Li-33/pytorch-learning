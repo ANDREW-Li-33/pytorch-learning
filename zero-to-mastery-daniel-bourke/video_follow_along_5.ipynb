{
  "nbformat": 4,
  "nbformat_minor": 0,
  "metadata": {
    "colab": {
      "provenance": [],
      "authorship_tag": "ABX9TyMlkCN8nACSstTo2Ms7qfa9",
      "include_colab_link": true
    },
    "kernelspec": {
      "name": "python3",
      "display_name": "Python 3"
    },
    "language_info": {
      "name": "python"
    }
  },
  "cells": [
    {
      "cell_type": "markdown",
      "metadata": {
        "id": "view-in-github",
        "colab_type": "text"
      },
      "source": [
        "<a href=\"https://colab.research.google.com/github/ANDREW-Li-33/pytorch-learning/blob/main/zero-to-mastery-daniel-bourke/video_follow_along_5.ipynb\" target=\"_parent\"><img src=\"https://colab.research.google.com/assets/colab-badge.svg\" alt=\"Open In Colab\"/></a>"
      ]
    },
    {
      "cell_type": "code",
      "execution_count": 2,
      "metadata": {
        "id": "ElLdZBDGO0_m"
      },
      "outputs": [],
      "source": [
        "import torch\n",
        "import numpy as np"
      ]
    },
    {
      "cell_type": "markdown",
      "source": [
        "## PyTorch Tensors and NumPy"
      ],
      "metadata": {
        "id": "qtw1CLbTO4hZ"
      }
    },
    {
      "cell_type": "code",
      "source": [
        "# changing numpy arrays to pytorch tensors -> torch.from_numpy(ndarray)\n",
        "# changing pytorch tensors to numpy arrays -> torch.Tensor.numpy()"
      ],
      "metadata": {
        "id": "NSxsvvrVO9_f"
      },
      "execution_count": null,
      "outputs": []
    },
    {
      "cell_type": "code",
      "source": [
        "array = np.arange(1.0, 8.0)\n",
        "tensor = torch.from_numpy(array) # when converting from numpy to pytorch, pytorch reflects numpy's default datatype of float64 unless otherwise specified\n",
        "array, tensor"
      ],
      "metadata": {
        "colab": {
          "base_uri": "https://localhost:8080/"
        },
        "id": "3Fe1udsqPJlb",
        "outputId": "b8976f39-5647-480e-cafc-5f7c9b82affc"
      },
      "execution_count": 3,
      "outputs": [
        {
          "output_type": "execute_result",
          "data": {
            "text/plain": [
              "(array([1., 2., 3., 4., 5., 6., 7.]),\n",
              " tensor([1., 2., 3., 4., 5., 6., 7.], dtype=torch.float64))"
            ]
          },
          "metadata": {},
          "execution_count": 3
        }
      ]
    },
    {
      "cell_type": "code",
      "source": [
        "array.dtype # default numpy data type is float64"
      ],
      "metadata": {
        "colab": {
          "base_uri": "https://localhost:8080/"
        },
        "id": "f0w1K10uPZRw",
        "outputId": "0eb79a3a-fa37-4a64-f6dd-04c803760787"
      },
      "execution_count": 4,
      "outputs": [
        {
          "output_type": "execute_result",
          "data": {
            "text/plain": [
              "dtype('float64')"
            ]
          },
          "metadata": {},
          "execution_count": 4
        }
      ]
    },
    {
      "cell_type": "code",
      "source": [
        "torch.arange(1.0, 8.0).dtype"
      ],
      "metadata": {
        "colab": {
          "base_uri": "https://localhost:8080/"
        },
        "id": "T4H4TIkWPZ-b",
        "outputId": "3750a215-ef1e-4dcc-dfd5-61f4ebda79a9"
      },
      "execution_count": 5,
      "outputs": [
        {
          "output_type": "execute_result",
          "data": {
            "text/plain": [
              "torch.float32"
            ]
          },
          "metadata": {},
          "execution_count": 5
        }
      ]
    },
    {
      "cell_type": "markdown",
      "source": [
        "## Reproducibility (taking the random out of random)\n",
        "\n",
        "Brief overview of how a NN works\n",
        "`start with random numbers -> tensor operations -> update random numbers to try and make them better representations of the data -> again -> again -> again...\n",
        "\n",
        "To reduce the randomness in neural networks and PyTorch, we use a **random seed**, which \"flavors\" the randomness"
      ],
      "metadata": {
        "id": "SsnnKBibQvzM"
      }
    },
    {
      "cell_type": "code",
      "source": [
        "randA = torch.rand(3, 4)\n",
        "randB = torch.rand(3, 4)\n",
        "\n",
        "print(randA)\n",
        "print(randB)\n",
        "print(randA == randB) # notice that it's highly unlikely we'll have any true elements"
      ],
      "metadata": {
        "colab": {
          "base_uri": "https://localhost:8080/"
        },
        "id": "kb7TaLL0RGcg",
        "outputId": "af57c12f-90fd-414f-aec0-90fe7a6ec7d5"
      },
      "execution_count": 126,
      "outputs": [
        {
          "output_type": "stream",
          "name": "stdout",
          "text": [
            "tensor([[0.7755, 0.1701, 0.4300, 0.2366],\n",
            "        [0.8610, 0.5037, 0.3542, 0.2710],\n",
            "        [0.4556, 0.6376, 0.2989, 0.1467]])\n",
            "tensor([[0.6134, 0.4103, 0.2558, 0.4705],\n",
            "        [0.9995, 0.8711, 0.6132, 0.8939],\n",
            "        [0.2354, 0.3334, 0.9869, 0.9263]])\n",
            "tensor([[False, False, False, False],\n",
            "        [False, False, False, False],\n",
            "        [False, False, False, False]])\n"
          ]
        }
      ]
    },
    {
      "cell_type": "code",
      "source": [
        "# making random but reproducible tensors\n",
        "RANDOM_SEED = 4221324525 # this number is arbitrary\n",
        "torch.manual_seed(RANDOM_SEED)\n",
        "randC = torch.rand(3, 4)\n",
        "\n",
        "torch.manual_seed(RANDOM_SEED) # note that we have to set the manual seed each time\n",
        "randD = torch.rand(3, 4)\n",
        "\n",
        "print(randC)\n",
        "print(randD)\n",
        "print(randC == randD)"
      ],
      "metadata": {
        "colab": {
          "base_uri": "https://localhost:8080/"
        },
        "id": "zu8rOVvlSjmO",
        "outputId": "e50f97da-3c32-4b57-b671-51bd74f6977f"
      },
      "execution_count": 161,
      "outputs": [
        {
          "output_type": "stream",
          "name": "stdout",
          "text": [
            "tensor([[0.5658, 0.3781, 0.6306, 0.3142],\n",
            "        [0.0412, 0.6954, 0.9037, 0.4140],\n",
            "        [0.2526, 0.3912, 0.1842, 0.7956]])\n",
            "tensor([[0.5658, 0.3781, 0.6306, 0.3142],\n",
            "        [0.0412, 0.6954, 0.9037, 0.4140],\n",
            "        [0.2526, 0.3912, 0.1842, 0.7956]])\n",
            "tensor([[True, True, True, True],\n",
            "        [True, True, True, True],\n",
            "        [True, True, True, True]])\n"
          ]
        }
      ]
    },
    {
      "cell_type": "markdown",
      "source": [
        "Since PyTorch is capable of running computuations on both the GPU and CPU, it's best practice to set up device agnostic code (run on GPU if available, otherwise run on CPU)"
      ],
      "metadata": {
        "id": "BrTZoVkCVCfl"
      }
    },
    {
      "cell_type": "code",
      "source": [
        "# Checking for GPU access\n",
        "torch.cuda.is_available()"
      ],
      "metadata": {
        "colab": {
          "base_uri": "https://localhost:8080/"
        },
        "id": "yfWYAl9CSmJ4",
        "outputId": "d0eac0bd-4a80-46a6-9aab-11fa74df5eb6"
      },
      "execution_count": 162,
      "outputs": [
        {
          "output_type": "execute_result",
          "data": {
            "text/plain": [
              "False"
            ]
          },
          "metadata": {},
          "execution_count": 162
        }
      ]
    },
    {
      "cell_type": "code",
      "source": [
        "# setting up device agnostic code\n",
        "device = \"cuda\" if torch.cuda.is_available() else \"cpu\"\n",
        "device"
      ],
      "metadata": {
        "colab": {
          "base_uri": "https://localhost:8080/",
          "height": 35
        },
        "id": "sKNqHZnNUtkS",
        "outputId": "3409228b-45e1-4220-c7d5-e26c2d375c1a"
      },
      "execution_count": 164,
      "outputs": [
        {
          "output_type": "execute_result",
          "data": {
            "text/plain": [
              "'cpu'"
            ],
            "application/vnd.google.colaboratory.intrinsic+json": {
              "type": "string"
            }
          },
          "metadata": {},
          "execution_count": 164
        }
      ]
    },
    {
      "cell_type": "code",
      "source": [
        "torch.cuda.device_count()"
      ],
      "metadata": {
        "colab": {
          "base_uri": "https://localhost:8080/"
        },
        "id": "SLQIazMKU0i6",
        "outputId": "7e2e6ed0-3214-44f0-e44d-8dcc3876f0b5"
      },
      "execution_count": 163,
      "outputs": [
        {
          "output_type": "execute_result",
          "data": {
            "text/plain": [
              "0"
            ]
          },
          "metadata": {},
          "execution_count": 163
        }
      ]
    }
  ]
}